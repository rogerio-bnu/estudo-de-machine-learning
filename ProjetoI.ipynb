{
  "nbformat": 4,
  "nbformat_minor": 0,
  "metadata": {
    "colab": {
      "name": "ProjetoI.ipynb",
      "provenance": [],
      "collapsed_sections": []
    },
    "kernelspec": {
      "display_name": "Python 3",
      "name": "python3"
    },
    "language_info": {
      "name": "python"
    }
  },
  "cells": [
    {
      "cell_type": "markdown",
      "metadata": {
        "id": "Cgw10_4MUXQ5"
      },
      "source": [
        "# **Projeto I - Aplicação de Métodos de Aprendizagem de Máquinas - UNIASSELVI**"
      ]
    },
    {
      "cell_type": "markdown",
      "metadata": {
        "id": "fAl0QkdPkITH"
      },
      "source": [
        "# Definição do Tema\n",
        "\n",
        "Será utilizada um conjunto de dados no formato csv (https://archive.ics.uci.edu/ml/datasets/Bank+Marketingh). Os dados referem-se a campanhas de marketing direto de uma instituição bancária portuguesa.\n",
        "As campanhas de marketing foram baseadas em ligações telefônicas para os clientes, e o objetivo era fazer a captação de depósitos à prazo.\n",
        "Um dos  problemas desse dataset é a grande discrepância entre o número de clientes contactados que aderiram à campanha (4.000), e os que não aderiram (521). Esse desequilíbrio dos dados faz com que os resultados das predições sejam bem ruins. Esse problema será resolvido na fase de pré-processamento, onde será aplicado o método SMOTE, que adicionará registros da classe minoritária, igualando-a à classe majoritária. Também será feita a conversão dos atributos categóricos para numéricos, pois a maioria dos métodos de machine learning só trabalham com este tipo de dados. Após a transformação dos dados, será feita a padronização da base, trazendo todos os atributos para uma escala entre 0 e 1."
      ]
    },
    {
      "cell_type": "markdown",
      "metadata": {
        "id": "njQ6_FVtxeZH"
      },
      "source": [
        "# Objetivo\n",
        "Esse projeto tem como objetivo desenvolver um modelo de Machine Learning que faça a previsão se um cliente contactado pelo banco irá ou não aderir a campanha, ou seja, fará ou não uma aplicação financeira."
      ]
    },
    {
      "cell_type": "markdown",
      "metadata": {
        "id": "5zX_A1d9z_J6"
      },
      "source": [
        "# Especificação Técnica\n",
        "Número de atributos: 16 atributos de entrada e 1 atributo de saída.\n",
        "\n",
        "Variáveis de entrada:\n",
        "- age: idade (numérica)\n",
        "- job: tipo de trabalho (categórica)\n",
        "- marital: estado civil (categórica)\n",
        "- education: grau de instrução (categórica)\n",
        "- default: tem crédito inadimplente? (binária: sim, não)\n",
        "- balance: saldo médio anual, em euros (numérica)\n",
        "- housing: tem crédito habitaconal? (binária: sim, não)\n",
        "- loan: tem empréstimo pessoal? (binária: sim, não)\n",
        "- contact: tipo de comunicação do contato (categórica)\n",
        "- day: último dia de contato do mês (numérica)\n",
        "- month: último mês de contato do ano (categórica)\n",
        "- duration: duração do último contato, em segundos (numérica)\n",
        "- campaign: quantidade de contatos realizados durante esta campanha e para este cliente (numérica)\n",
        "- pdays: número de dias que passaram após o último contato do cliente de uma campanha anterior (numérica)\n",
        "- previous: número de contatos realizados antes desta campanha e para este cliente (numérica)\n",
        "- potcome: resultado da campanha de marketing anterior (categórica)\n",
        "\n",
        "Variável de saída (alvo desejado):\n",
        "- deposit: o cliente efetuou um depósito a prazo? (binária: sim, não)\n",
        "\n",
        "A base de dados será dividida em 80% para treinamento, e 20% para teste.\n",
        "Serão aplicados tres métodos de Machine Learning: Árvore de decisão (*DecisionTreeClassifier*), Random Forest (*RandomForestClassifier*) e KNN (*KNeighborsClassifier*), todos da biblioteca *sickit-learn*.\n",
        "Para avaliação dos métodos, serão levadas em consideração as métricas *accuracy* e *recall*.\n",
        "\n",
        "\n",
        "\n"
      ]
    },
    {
      "cell_type": "markdown",
      "metadata": {
        "id": "1NHI2InRU4r_"
      },
      "source": [
        "# Importação das bibliotecas básicas"
      ]
    },
    {
      "cell_type": "code",
      "metadata": {
        "id": "3gNmDjO8VNql",
        "colab": {
          "base_uri": "https://localhost:8080/"
        },
        "outputId": "815891fd-2348-4587-c038-f1f69b7bfd73"
      },
      "source": [
        "# suprimir os warnings\n",
        "from warnings import simplefilter\n",
        "simplefilter(action='ignore', category=FutureWarning)\n",
        "\n",
        "!pip install plotly --upgrade"
      ],
      "execution_count": null,
      "outputs": [
        {
          "output_type": "stream",
          "name": "stdout",
          "text": [
            "Requirement already satisfied: plotly in /usr/local/lib/python3.7/dist-packages (4.4.1)\n",
            "Collecting plotly\n",
            "  Downloading plotly-5.3.1-py2.py3-none-any.whl (23.9 MB)\n",
            "\u001b[K     |████████████████████████████████| 23.9 MB 14 kB/s \n",
            "\u001b[?25hCollecting tenacity>=6.2.0\n",
            "  Downloading tenacity-8.0.1-py3-none-any.whl (24 kB)\n",
            "Requirement already satisfied: six in /usr/local/lib/python3.7/dist-packages (from plotly) (1.15.0)\n",
            "Installing collected packages: tenacity, plotly\n",
            "  Attempting uninstall: plotly\n",
            "    Found existing installation: plotly 4.4.1\n",
            "    Uninstalling plotly-4.4.1:\n",
            "      Successfully uninstalled plotly-4.4.1\n",
            "Successfully installed plotly-5.3.1 tenacity-8.0.1\n"
          ]
        }
      ]
    },
    {
      "cell_type": "code",
      "metadata": {
        "id": "o3icea9dVfB1"
      },
      "source": [
        "import pandas as pd\n",
        "import numpy as np\n",
        "import seaborn as sns\n",
        "import matplotlib.pyplot as plt\n",
        "import plotly.express as px\n",
        "import pickle\n",
        "\n",
        "from sklearn.model_selection import train_test_split\n",
        "from sklearn.metrics import accuracy_score, confusion_matrix, classification_report\n",
        "from yellowbrick.classifier import ConfusionMatrix\n",
        "from sklearn.tree import DecisionTreeClassifier\n",
        "from sklearn.ensemble import RandomForestClassifier\n",
        "from sklearn.neighbors import KNeighborsClassifier\n",
        "from sklearn.model_selection import GridSearchCV\n",
        "\n",
        "%matplotlib inline"
      ],
      "execution_count": null,
      "outputs": []
    },
    {
      "cell_type": "markdown",
      "metadata": {
        "id": "4dTwXinZWu8D"
      },
      "source": [
        "# Marketing de banco\n",
        "\n",
        "\n",
        "*   Fonte: https://archive.ics.uci.edu/ml/datasets/Bank+Marketing\n",
        "\n"
      ]
    },
    {
      "cell_type": "markdown",
      "metadata": {
        "id": "61Yz6HHQecHU"
      },
      "source": [
        "# Pré - Processamento"
      ]
    },
    {
      "cell_type": "markdown",
      "metadata": {
        "id": "ilamplfUXZVS"
      },
      "source": [
        "## Carregamento da base e visualização dos dados"
      ]
    },
    {
      "cell_type": "code",
      "metadata": {
        "id": "rcGb2-SMXtIG",
        "colab": {
          "base_uri": "https://localhost:8080/",
          "height": 222
        },
        "outputId": "dd0b1dad-ea03-4eb9-af89-501364bee109"
      },
      "source": [
        "dados = pd.read_csv('bank.csv', sep=';')\n",
        "dados.head()"
      ],
      "execution_count": null,
      "outputs": [
        {
          "output_type": "execute_result",
          "data": {
            "text/html": [
              "<div>\n",
              "<style scoped>\n",
              "    .dataframe tbody tr th:only-of-type {\n",
              "        vertical-align: middle;\n",
              "    }\n",
              "\n",
              "    .dataframe tbody tr th {\n",
              "        vertical-align: top;\n",
              "    }\n",
              "\n",
              "    .dataframe thead th {\n",
              "        text-align: right;\n",
              "    }\n",
              "</style>\n",
              "<table border=\"1\" class=\"dataframe\">\n",
              "  <thead>\n",
              "    <tr style=\"text-align: right;\">\n",
              "      <th></th>\n",
              "      <th>age</th>\n",
              "      <th>job</th>\n",
              "      <th>marital</th>\n",
              "      <th>education</th>\n",
              "      <th>default</th>\n",
              "      <th>balance</th>\n",
              "      <th>housing</th>\n",
              "      <th>loan</th>\n",
              "      <th>contact</th>\n",
              "      <th>day</th>\n",
              "      <th>month</th>\n",
              "      <th>duration</th>\n",
              "      <th>campaign</th>\n",
              "      <th>pdays</th>\n",
              "      <th>previous</th>\n",
              "      <th>poutcome</th>\n",
              "      <th>deposit</th>\n",
              "    </tr>\n",
              "  </thead>\n",
              "  <tbody>\n",
              "    <tr>\n",
              "      <th>0</th>\n",
              "      <td>30</td>\n",
              "      <td>unemployed</td>\n",
              "      <td>married</td>\n",
              "      <td>primary</td>\n",
              "      <td>no</td>\n",
              "      <td>1787</td>\n",
              "      <td>no</td>\n",
              "      <td>no</td>\n",
              "      <td>cellular</td>\n",
              "      <td>19</td>\n",
              "      <td>oct</td>\n",
              "      <td>79</td>\n",
              "      <td>1</td>\n",
              "      <td>-1</td>\n",
              "      <td>0</td>\n",
              "      <td>unknown</td>\n",
              "      <td>no</td>\n",
              "    </tr>\n",
              "    <tr>\n",
              "      <th>1</th>\n",
              "      <td>33</td>\n",
              "      <td>services</td>\n",
              "      <td>married</td>\n",
              "      <td>secondary</td>\n",
              "      <td>no</td>\n",
              "      <td>4789</td>\n",
              "      <td>yes</td>\n",
              "      <td>yes</td>\n",
              "      <td>cellular</td>\n",
              "      <td>11</td>\n",
              "      <td>may</td>\n",
              "      <td>220</td>\n",
              "      <td>1</td>\n",
              "      <td>339</td>\n",
              "      <td>4</td>\n",
              "      <td>failure</td>\n",
              "      <td>no</td>\n",
              "    </tr>\n",
              "    <tr>\n",
              "      <th>2</th>\n",
              "      <td>35</td>\n",
              "      <td>management</td>\n",
              "      <td>single</td>\n",
              "      <td>tertiary</td>\n",
              "      <td>no</td>\n",
              "      <td>1350</td>\n",
              "      <td>yes</td>\n",
              "      <td>no</td>\n",
              "      <td>cellular</td>\n",
              "      <td>16</td>\n",
              "      <td>apr</td>\n",
              "      <td>185</td>\n",
              "      <td>1</td>\n",
              "      <td>330</td>\n",
              "      <td>1</td>\n",
              "      <td>failure</td>\n",
              "      <td>no</td>\n",
              "    </tr>\n",
              "    <tr>\n",
              "      <th>3</th>\n",
              "      <td>30</td>\n",
              "      <td>management</td>\n",
              "      <td>married</td>\n",
              "      <td>tertiary</td>\n",
              "      <td>no</td>\n",
              "      <td>1476</td>\n",
              "      <td>yes</td>\n",
              "      <td>yes</td>\n",
              "      <td>unknown</td>\n",
              "      <td>3</td>\n",
              "      <td>jun</td>\n",
              "      <td>199</td>\n",
              "      <td>4</td>\n",
              "      <td>-1</td>\n",
              "      <td>0</td>\n",
              "      <td>unknown</td>\n",
              "      <td>no</td>\n",
              "    </tr>\n",
              "    <tr>\n",
              "      <th>4</th>\n",
              "      <td>59</td>\n",
              "      <td>blue-collar</td>\n",
              "      <td>married</td>\n",
              "      <td>secondary</td>\n",
              "      <td>no</td>\n",
              "      <td>0</td>\n",
              "      <td>yes</td>\n",
              "      <td>no</td>\n",
              "      <td>unknown</td>\n",
              "      <td>5</td>\n",
              "      <td>may</td>\n",
              "      <td>226</td>\n",
              "      <td>1</td>\n",
              "      <td>-1</td>\n",
              "      <td>0</td>\n",
              "      <td>unknown</td>\n",
              "      <td>no</td>\n",
              "    </tr>\n",
              "  </tbody>\n",
              "</table>\n",
              "</div>"
            ],
            "text/plain": [
              "   age          job  marital  education  ... pdays  previous poutcome deposit\n",
              "0   30   unemployed  married    primary  ...    -1         0  unknown      no\n",
              "1   33     services  married  secondary  ...   339         4  failure      no\n",
              "2   35   management   single   tertiary  ...   330         1  failure      no\n",
              "3   30   management  married   tertiary  ...    -1         0  unknown      no\n",
              "4   59  blue-collar  married  secondary  ...    -1         0  unknown      no\n",
              "\n",
              "[5 rows x 17 columns]"
            ]
          },
          "metadata": {},
          "execution_count": 3
        }
      ]
    },
    {
      "cell_type": "markdown",
      "metadata": {
        "id": "2yfmUxrFjuXq"
      },
      "source": [
        "## Tratamento de valores faltantes"
      ]
    },
    {
      "cell_type": "code",
      "metadata": {
        "colab": {
          "base_uri": "https://localhost:8080/"
        },
        "id": "bRZsw9oIjywo",
        "outputId": "2ba506db-8599-4448-a319-f047d3e2b340"
      },
      "source": [
        "dados.isnull().sum()"
      ],
      "execution_count": null,
      "outputs": [
        {
          "output_type": "execute_result",
          "data": {
            "text/plain": [
              "age          0\n",
              "job          0\n",
              "marital      0\n",
              "education    0\n",
              "default      0\n",
              "balance      0\n",
              "housing      0\n",
              "loan         0\n",
              "contact      0\n",
              "day          0\n",
              "month        0\n",
              "duration     0\n",
              "campaign     0\n",
              "pdays        0\n",
              "previous     0\n",
              "poutcome     0\n",
              "deposit      0\n",
              "dtype: int64"
            ]
          },
          "metadata": {},
          "execution_count": 4
        }
      ]
    },
    {
      "cell_type": "code",
      "metadata": {
        "colab": {
          "base_uri": "https://localhost:8080/"
        },
        "id": "tul_jPxfaUBD",
        "outputId": "ef49e685-be40-4db5-a6f1-8d9ae535d51b"
      },
      "source": [
        "dados.info()"
      ],
      "execution_count": null,
      "outputs": [
        {
          "output_type": "stream",
          "name": "stdout",
          "text": [
            "<class 'pandas.core.frame.DataFrame'>\n",
            "RangeIndex: 4521 entries, 0 to 4520\n",
            "Data columns (total 17 columns):\n",
            " #   Column     Non-Null Count  Dtype \n",
            "---  ------     --------------  ----- \n",
            " 0   age        4521 non-null   int64 \n",
            " 1   job        4521 non-null   object\n",
            " 2   marital    4521 non-null   object\n",
            " 3   education  4521 non-null   object\n",
            " 4   default    4521 non-null   object\n",
            " 5   balance    4521 non-null   int64 \n",
            " 6   housing    4521 non-null   object\n",
            " 7   loan       4521 non-null   object\n",
            " 8   contact    4521 non-null   object\n",
            " 9   day        4521 non-null   int64 \n",
            " 10  month      4521 non-null   object\n",
            " 11  duration   4521 non-null   int64 \n",
            " 12  campaign   4521 non-null   int64 \n",
            " 13  pdays      4521 non-null   int64 \n",
            " 14  previous   4521 non-null   int64 \n",
            " 15  poutcome   4521 non-null   object\n",
            " 16  deposit    4521 non-null   object\n",
            "dtypes: int64(7), object(10)\n",
            "memory usage: 600.6+ KB\n"
          ]
        }
      ]
    },
    {
      "cell_type": "code",
      "metadata": {
        "colab": {
          "base_uri": "https://localhost:8080/"
        },
        "id": "vTEBojkvf6ZE",
        "outputId": "d7e38806-08c5-4536-ea63-b6d8f5397561"
      },
      "source": [
        "dados.values"
      ],
      "execution_count": null,
      "outputs": [
        {
          "output_type": "execute_result",
          "data": {
            "text/plain": [
              "array([[30, 'unemployed', 'married', ..., 0, 'unknown', 'no'],\n",
              "       [33, 'services', 'married', ..., 4, 'failure', 'no'],\n",
              "       [35, 'management', 'single', ..., 1, 'failure', 'no'],\n",
              "       ...,\n",
              "       [57, 'technician', 'married', ..., 0, 'unknown', 'no'],\n",
              "       [28, 'blue-collar', 'married', ..., 3, 'other', 'no'],\n",
              "       [44, 'entrepreneur', 'single', ..., 7, 'other', 'no']],\n",
              "      dtype=object)"
            ]
          },
          "metadata": {},
          "execution_count": 6
        }
      ]
    },
    {
      "cell_type": "code",
      "metadata": {
        "colab": {
          "base_uri": "https://localhost:8080/",
          "height": 475
        },
        "id": "30BveXqiEK1z",
        "outputId": "36a598e6-e44b-4186-c860-08b3044b0e51"
      },
      "source": [
        "sns.set_theme(style='darkgrid')\n",
        "sns.set(rc = {'figure.figsize':(10, 6)})\n",
        "job = sns.countplot(x=\"job\", data = dados, hue = \"deposit\", order = dados[\"job\"].value_counts().index)\n",
        "job.tick_params(axis='x', rotation=60)\n",
        "plt.title(\"Análise bivariada da relação entre perfil profissional e depósito\")\n",
        "plt.show()"
      ],
      "execution_count": null,
      "outputs": [
        {
          "output_type": "display_data",
          "data": {
            "image/png": "[encoded data removed]",
            "text/plain": [
              "<Figure size 720x432 with 1 Axes>"
            ]
          },
          "metadata": {}
        }
      ]
    },
    {
      "cell_type": "code",
      "metadata": {
        "colab": {
          "base_uri": "https://localhost:8080/",
          "height": 448
        },
        "id": "s1pcXt7DGu0F",
        "outputId": "efb0fc8e-837f-4320-f951-ca78000d372e"
      },
      "source": [
        "sns.set_theme(style='darkgrid')\n",
        "sns.set(rc = {'figure.figsize':(10, 6)})\n",
        "marital = sns.countplot(x=\"marital\", data = dados, hue = \"deposit\", order = dados[\"marital\"].value_counts().index)\n",
        "marital.tick_params(axis='x', rotation=60)\n",
        "plt.title(\"Análise bivariada da relação entre estado civil e depósito\")\n",
        "plt.show()"
      ],
      "execution_count": null,
      "outputs": [
        {
          "output_type": "display_data",
          "data": {
            "image/png": "[encoded data removed]",
            "text/plain": [
              "<Figure size 720x432 with 1 Axes>"
            ]
          },
          "metadata": {}
        }
      ]
    },
    {
      "cell_type": "code",
      "metadata": {
        "colab": {
          "base_uri": "https://localhost:8080/",
          "height": 457
        },
        "id": "EPRN9uSRMTlJ",
        "outputId": "cdb0be89-4f3e-4127-9434-ad8d2a7b0865"
      },
      "source": [
        "sns.set_theme(style='darkgrid')\n",
        "sns.set(rc = {'figure.figsize':(10, 6)})\n",
        "education = sns.countplot(x=\"education\", data = dados, hue = \"deposit\", order = dados[\"education\"].value_counts().index)\n",
        "education.tick_params(axis='x', rotation=60)\n",
        "plt.title(\"Análise bivariada da relação entre nível de educação e depósito\")\n",
        "plt.show()"
      ],
      "execution_count": null,
      "outputs": [
        {
          "output_type": "display_data",
          "data": {
            "image/png": "[encoded data removed]",
            "text/plain": [
              "<Figure size 720x432 with 1 Axes>"
            ]
          },
          "metadata": {}
        }
      ]
    },
    {
      "cell_type": "markdown",
      "metadata": {
        "id": "boryJElWyPfG"
      },
      "source": [
        "**Transformação de atributos categóricos:** \n",
        "\n",
        "Após a transformação, foi atribuído o valor 0 aos clientes que não aderiram à campanha, e 1 aos que aderiram."
      ]
    },
    {
      "cell_type": "code",
      "metadata": {
        "id": "y6SqCinmc0xS"
      },
      "source": [
        "for col_name in dados.columns:\n",
        "  if (dados[col_name].dtype == 'object'):\n",
        "    dados[col_name] = dados[col_name].astype('category')\n",
        "    dados[col_name] = dados[col_name].cat.codes"
      ],
      "execution_count": null,
      "outputs": []
    },
    {
      "cell_type": "code",
      "metadata": {
        "colab": {
          "base_uri": "https://localhost:8080/",
          "height": 202
        },
        "id": "RC3Ikvoc4EGN",
        "outputId": "e87eccc5-0555-426d-9e4f-1a8b415ebd70"
      },
      "source": [
        "dados.head()"
      ],
      "execution_count": null,
      "outputs": [
        {
          "output_type": "execute_result",
          "data": {
            "text/html": [
              "<div>\n",
              "<style scoped>\n",
              "    .dataframe tbody tr th:only-of-type {\n",
              "        vertical-align: middle;\n",
              "    }\n",
              "\n",
              "    .dataframe tbody tr th {\n",
              "        vertical-align: top;\n",
              "    }\n",
              "\n",
              "    .dataframe thead th {\n",
              "        text-align: right;\n",
              "    }\n",
              "</style>\n",
              "<table border=\"1\" class=\"dataframe\">\n",
              "  <thead>\n",
              "    <tr style=\"text-align: right;\">\n",
              "      <th></th>\n",
              "      <th>age</th>\n",
              "      <th>job</th>\n",
              "      <th>marital</th>\n",
              "      <th>education</th>\n",
              "      <th>default</th>\n",
              "      <th>balance</th>\n",
              "      <th>housing</th>\n",
              "      <th>loan</th>\n",
              "      <th>contact</th>\n",
              "      <th>day</th>\n",
              "      <th>month</th>\n",
              "      <th>duration</th>\n",
              "      <th>campaign</th>\n",
              "      <th>pdays</th>\n",
              "      <th>previous</th>\n",
              "      <th>poutcome</th>\n",
              "      <th>deposit</th>\n",
              "    </tr>\n",
              "  </thead>\n",
              "  <tbody>\n",
              "    <tr>\n",
              "      <th>0</th>\n",
              "      <td>30</td>\n",
              "      <td>10</td>\n",
              "      <td>1</td>\n",
              "      <td>0</td>\n",
              "      <td>0</td>\n",
              "      <td>1787</td>\n",
              "      <td>0</td>\n",
              "      <td>0</td>\n",
              "      <td>0</td>\n",
              "      <td>19</td>\n",
              "      <td>10</td>\n",
              "      <td>79</td>\n",
              "      <td>1</td>\n",
              "      <td>-1</td>\n",
              "      <td>0</td>\n",
              "      <td>3</td>\n",
              "      <td>0</td>\n",
              "    </tr>\n",
              "    <tr>\n",
              "      <th>1</th>\n",
              "      <td>33</td>\n",
              "      <td>7</td>\n",
              "      <td>1</td>\n",
              "      <td>1</td>\n",
              "      <td>0</td>\n",
              "      <td>4789</td>\n",
              "      <td>1</td>\n",
              "      <td>1</td>\n",
              "      <td>0</td>\n",
              "      <td>11</td>\n",
              "      <td>8</td>\n",
              "      <td>220</td>\n",
              "      <td>1</td>\n",
              "      <td>339</td>\n",
              "      <td>4</td>\n",
              "      <td>0</td>\n",
              "      <td>0</td>\n",
              "    </tr>\n",
              "    <tr>\n",
              "      <th>2</th>\n",
              "      <td>35</td>\n",
              "      <td>4</td>\n",
              "      <td>2</td>\n",
              "      <td>2</td>\n",
              "      <td>0</td>\n",
              "      <td>1350</td>\n",
              "      <td>1</td>\n",
              "      <td>0</td>\n",
              "      <td>0</td>\n",
              "      <td>16</td>\n",
              "      <td>0</td>\n",
              "      <td>185</td>\n",
              "      <td>1</td>\n",
              "      <td>330</td>\n",
              "      <td>1</td>\n",
              "      <td>0</td>\n",
              "      <td>0</td>\n",
              "    </tr>\n",
              "    <tr>\n",
              "      <th>3</th>\n",
              "      <td>30</td>\n",
              "      <td>4</td>\n",
              "      <td>1</td>\n",
              "      <td>2</td>\n",
              "      <td>0</td>\n",
              "      <td>1476</td>\n",
              "      <td>1</td>\n",
              "      <td>1</td>\n",
              "      <td>2</td>\n",
              "      <td>3</td>\n",
              "      <td>6</td>\n",
              "      <td>199</td>\n",
              "      <td>4</td>\n",
              "      <td>-1</td>\n",
              "      <td>0</td>\n",
              "      <td>3</td>\n",
              "      <td>0</td>\n",
              "    </tr>\n",
              "    <tr>\n",
              "      <th>4</th>\n",
              "      <td>59</td>\n",
              "      <td>1</td>\n",
              "      <td>1</td>\n",
              "      <td>1</td>\n",
              "      <td>0</td>\n",
              "      <td>0</td>\n",
              "      <td>1</td>\n",
              "      <td>0</td>\n",
              "      <td>2</td>\n",
              "      <td>5</td>\n",
              "      <td>8</td>\n",
              "      <td>226</td>\n",
              "      <td>1</td>\n",
              "      <td>-1</td>\n",
              "      <td>0</td>\n",
              "      <td>3</td>\n",
              "      <td>0</td>\n",
              "    </tr>\n",
              "  </tbody>\n",
              "</table>\n",
              "</div>"
            ],
            "text/plain": [
              "   age  job  marital  education  ...  pdays  previous  poutcome  deposit\n",
              "0   30   10        1          0  ...     -1         0         3        0\n",
              "1   33    7        1          1  ...    339         4         0        0\n",
              "2   35    4        2          2  ...    330         1         0        0\n",
              "3   30    4        1          2  ...     -1         0         3        0\n",
              "4   59    1        1          1  ...     -1         0         3        0\n",
              "\n",
              "[5 rows x 17 columns]"
            ]
          },
          "metadata": {},
          "execution_count": 11
        }
      ]
    },
    {
      "cell_type": "code",
      "metadata": {
        "colab": {
          "base_uri": "https://localhost:8080/"
        },
        "id": "DOwexIeCtn-u",
        "outputId": "de3dade0-f963-488b-c170-81b663541281"
      },
      "source": [
        "dados.deposit.value_counts()"
      ],
      "execution_count": null,
      "outputs": [
        {
          "output_type": "execute_result",
          "data": {
            "text/plain": [
              "0    4000\n",
              "1     521\n",
              "Name: deposit, dtype: int64"
            ]
          },
          "metadata": {},
          "execution_count": 12
        }
      ]
    },
    {
      "cell_type": "code",
      "metadata": {
        "colab": {
          "base_uri": "https://localhost:8080/",
          "height": 396
        },
        "id": "kGeOz4-ItvUO",
        "outputId": "5f540b21-5ea8-4dba-b34e-b33e4a136cc8"
      },
      "source": [
        "ax = sns.countplot(x='deposit', data=dados)"
      ],
      "execution_count": null,
      "outputs": [
        {
          "output_type": "display_data",
          "data": {
            "image/png": "[encoded data removed]",
            "text/plain": [
              "<Figure size 720x432 with 1 Axes>"
            ]
          },
          "metadata": {}
        }
      ]
    },
    {
      "cell_type": "markdown",
      "metadata": {
        "id": "UrYxSnqL7L2L"
      },
      "source": [
        "## Divisão entre previsores e classe"
      ]
    },
    {
      "cell_type": "code",
      "metadata": {
        "colab": {
          "base_uri": "https://localhost:8080/"
        },
        "id": "nsjTBBuP7Sm3",
        "outputId": "781d8359-ebd9-4bb7-d60e-5c1f0d34a25f"
      },
      "source": [
        "X_dados = dados.drop('deposit', axis=1)\n",
        "y_dados = dados.deposit\n",
        "print(X_dados.shape)\n",
        "print(y_dados.shape)"
      ],
      "execution_count": null,
      "outputs": [
        {
          "output_type": "stream",
          "name": "stdout",
          "text": [
            "(4521, 16)\n",
            "(4521,)\n"
          ]
        }
      ]
    },
    {
      "cell_type": "markdown",
      "metadata": {
        "id": "YCzKvFO1JUvg"
      },
      "source": [
        "# Sobreamostragem com SMOT\n",
        "\n",
        "Para eliminar o desequilíbrio da base de dados, serão incluídos registros da classe minoritária(1), igualando-a à classe majoritária(0)"
      ]
    },
    {
      "cell_type": "code",
      "metadata": {
        "colab": {
          "base_uri": "https://localhost:8080/"
        },
        "id": "5UrNhAJCJTYv",
        "outputId": "807bd091-5bd5-4793-a781-7208bec0d962"
      },
      "source": [
        "from imblearn.over_sampling import SMOTE\n",
        "smote = SMOTE(sampling_strategy='minority')\n",
        "X_dados, y_dados = smote.fit_sample(X_dados, y_dados)\n",
        "print(X_dados.shape)\n",
        "print(y_dados.shape)"
      ],
      "execution_count": null,
      "outputs": [
        {
          "output_type": "stream",
          "name": "stdout",
          "text": [
            "(8000, 16)\n",
            "(8000,)\n"
          ]
        }
      ]
    },
    {
      "cell_type": "code",
      "metadata": {
        "colab": {
          "base_uri": "https://localhost:8080/"
        },
        "id": "ce4Cf4BRK6BD",
        "outputId": "6bf62f46-6980-4f84-bb3e-47fff6674836"
      },
      "source": [
        "np.unique(y_dados, return_counts=True)"
      ],
      "execution_count": null,
      "outputs": [
        {
          "output_type": "execute_result",
          "data": {
            "text/plain": [
              "(array([0, 1], dtype=int8), array([4000, 4000]))"
            ]
          },
          "metadata": {},
          "execution_count": 15
        }
      ]
    },
    {
      "cell_type": "markdown",
      "metadata": {
        "id": "0qQw_DxE8c7b"
      },
      "source": [
        "## Padronização da base de dados"
      ]
    },
    {
      "cell_type": "code",
      "metadata": {
        "id": "kMMueJ9q8hYL"
      },
      "source": [
        "from sklearn.preprocessing import MinMaxScaler\n",
        "scaler_x = MinMaxScaler()\n",
        "X_dados = scaler_x.fit_transform(X_dados)"
      ],
      "execution_count": null,
      "outputs": []
    },
    {
      "cell_type": "code",
      "metadata": {
        "colab": {
          "base_uri": "https://localhost:8080/"
        },
        "id": "UR5APx1Y-7Mi",
        "outputId": "f1d062a3-e20a-47fa-c58a-b5089b449d3a"
      },
      "source": [
        "X_dados"
      ],
      "execution_count": null,
      "outputs": [
        {
          "output_type": "execute_result",
          "data": {
            "text/plain": [
              "array([[0.16176471, 0.90909091, 0.5       , ..., 0.        , 0.        ,\n",
              "        1.        ],\n",
              "       [0.20588235, 0.63636364, 0.5       , ..., 0.38990826, 0.16      ,\n",
              "        0.        ],\n",
              "       [0.23529412, 0.36363636, 1.        , ..., 0.37958716, 0.04      ,\n",
              "        0.        ],\n",
              "       ...,\n",
              "       [0.44117647, 0.18181818, 0.5       , ..., 0.        , 0.        ,\n",
              "        1.        ],\n",
              "       [0.39705882, 0.09090909, 0.        , ..., 0.26490826, 0.08      ,\n",
              "        0.        ],\n",
              "       [0.16176471, 0.09090909, 0.5       , ..., 0.2706422 , 0.04      ,\n",
              "        0.        ]])"
            ]
          },
          "metadata": {},
          "execution_count": 17
        }
      ]
    },
    {
      "cell_type": "markdown",
      "metadata": {
        "id": "ID6eMCJh6lYL"
      },
      "source": [
        "## Divisão entre treinamento e teste"
      ]
    },
    {
      "cell_type": "code",
      "metadata": {
        "id": "bTMyaTSg7x0h"
      },
      "source": [
        "X_train, X_test, y_train, y_test = train_test_split(X_dados, y_dados, test_size=0.20, random_state=1)"
      ],
      "execution_count": null,
      "outputs": []
    },
    {
      "cell_type": "code",
      "metadata": {
        "colab": {
          "base_uri": "https://localhost:8080/"
        },
        "id": "00j-8ibf8zKB",
        "outputId": "78d3ec4d-9e7f-4ffb-991b-9b92c058a1fb"
      },
      "source": [
        "X_train.shape, X_test.shape"
      ],
      "execution_count": null,
      "outputs": [
        {
          "output_type": "execute_result",
          "data": {
            "text/plain": [
              "((6400, 16), (1600, 16))"
            ]
          },
          "metadata": {},
          "execution_count": 19
        }
      ]
    },
    {
      "cell_type": "code",
      "metadata": {
        "colab": {
          "base_uri": "https://localhost:8080/"
        },
        "id": "f-k3BVkygT80",
        "outputId": "240815ad-4db0-487f-9365-e1f4e2827762"
      },
      "source": [
        "y_test"
      ],
      "execution_count": null,
      "outputs": [
        {
          "output_type": "execute_result",
          "data": {
            "text/plain": [
              "array([0, 0, 0, ..., 0, 1, 1], dtype=int8)"
            ]
          },
          "metadata": {},
          "execution_count": 20
        }
      ]
    },
    {
      "cell_type": "markdown",
      "metadata": {
        "id": "ZmxYEeMpD4Jk"
      },
      "source": [
        "## Salvar as variáveis\n",
        "\n",
        "Após o tratamento dos dados e a divisão entre treinamento e teste, os dados são salvos em disco, para aplicações posteriores."
      ]
    },
    {
      "cell_type": "code",
      "metadata": {
        "id": "867lr27vEIIT"
      },
      "source": [
        "with open('bank.pkl', mode = 'wb') as f:\n",
        "  pickle.dump([X_train, y_train, X_test, y_test], f)"
      ],
      "execution_count": null,
      "outputs": []
    },
    {
      "cell_type": "markdown",
      "metadata": {
        "id": "8ju_vpTiyI3b"
      },
      "source": [
        "# Aplicação dos algoritmos"
      ]
    },
    {
      "cell_type": "code",
      "metadata": {
        "id": "AFOjgxsjyoDg"
      },
      "source": [
        "with open('bank.pkl', 'rb') as f:\n",
        "  X_train, y_train, X_test, y_test = pickle.load(f)"
      ],
      "execution_count": null,
      "outputs": []
    },
    {
      "cell_type": "code",
      "metadata": {
        "colab": {
          "base_uri": "https://localhost:8080/"
        },
        "id": "7RkrIYXmtLyI",
        "outputId": "78173577-8c1c-46cd-fcbe-8e78ebfc2475"
      },
      "source": [
        "X_train.shape, y_train.shape"
      ],
      "execution_count": null,
      "outputs": [
        {
          "output_type": "execute_result",
          "data": {
            "text/plain": [
              "((6400, 16), (6400,))"
            ]
          },
          "metadata": {},
          "execution_count": 34
        }
      ]
    },
    {
      "cell_type": "markdown",
      "metadata": {
        "id": "uAjdbpcnygcQ"
      },
      "source": [
        "## Árvore de decisão\n",
        "Árvores de Decisão, ou *Decision Trees*, são algoritmos de machine learning largamente utilizados, com uma estrutura de simples compreensão e que costumam apresentar bons resultados em suas previsões. Eles também são a base do funcionamento de outros poderosos algoritmos, como o Random Forest, por exemplo.\n",
        "\n",
        "**Estrutura de uma árvore de decisão**: \n",
        "Como o próprio nome sugere, neste algoritmo vários pontos de decisão serão criados. Estes pontos são os “nós” da árvore e em cada um deles o resultado da decisão será seguir por um caminho, ou por outro. Os caminhos existentes são os “ramos”. Esta é a estrutura básica de uma árvore de decisão. Os nós são responsáveis pelas conferências que irão indicar um ramo ou outro para sequência do fluxo.\n",
        "\n",
        "Fonte: https://didatica.tech/como-funciona-o-algoritmo-arvore-de-decisao/\n"
      ]
    },
    {
      "cell_type": "code",
      "metadata": {
        "colab": {
          "base_uri": "https://localhost:8080/"
        },
        "id": "KFYCPs6vzeQi",
        "outputId": "b6c4c650-2ba4-4f50-c4a3-7c9b67e6e698"
      },
      "source": [
        "arvore = DecisionTreeClassifier(criterion='entropy', min_samples_leaf=1,\n",
        "                                min_samples_split=2, splitter='best', random_state=1)\n",
        "arvore.fit(X_train, y_train)\n",
        "prev = arvore.predict(X_test)\n",
        "print('Acurácia:', (round(accuracy_score(y_test, prev),4)))"
      ],
      "execution_count": null,
      "outputs": [
        {
          "output_type": "stream",
          "name": "stdout",
          "text": [
            "Acurácia: 0.8638\n"
          ]
        }
      ]
    },
    {
      "cell_type": "code",
      "metadata": {
        "colab": {
          "base_uri": "https://localhost:8080/"
        },
        "id": "Y83zxB1J4ENU",
        "outputId": "f6109f3a-9fae-45ae-db72-e324361ba9bd"
      },
      "source": [
        "confusion_matrix(y_test, prev)"
      ],
      "execution_count": null,
      "outputs": [
        {
          "output_type": "execute_result",
          "data": {
            "text/plain": [
              "array([[666, 120],\n",
              "       [ 98, 716]])"
            ]
          },
          "metadata": {},
          "execution_count": 36
        }
      ]
    },
    {
      "cell_type": "code",
      "metadata": {
        "colab": {
          "base_uri": "https://localhost:8080/",
          "height": 537
        },
        "id": "XLuzKoh74Va4",
        "outputId": "121c785e-d3f8-4fc0-a5ed-5d6b171b9860"
      },
      "source": [
        "cm = ConfusionMatrix(arvore)\n",
        "cm.fit(X_train, y_train)\n",
        "cm.score(X_test, y_test)\n",
        "print(classification_report(y_test, prev))"
      ],
      "execution_count": null,
      "outputs": [
        {
          "output_type": "stream",
          "name": "stdout",
          "text": [
            "              precision    recall  f1-score   support\n",
            "\n",
            "           0       0.87      0.85      0.86       786\n",
            "           1       0.86      0.88      0.87       814\n",
            "\n",
            "    accuracy                           0.86      1600\n",
            "   macro avg       0.86      0.86      0.86      1600\n",
            "weighted avg       0.86      0.86      0.86      1600\n",
            "\n"
          ]
        },
        {
          "output_type": "display_data",
          "data": {
            "image/png": "[encoded data removed]",
            "text/plain": [
              "<Figure size 720x432 with 1 Axes>"
            ]
          },
          "metadata": {}
        }
      ]
    },
    {
      "cell_type": "markdown",
      "metadata": {
        "id": "PANReGp77O0t"
      },
      "source": [
        "## Random Forest\n",
        "\n",
        "*Random Forest* (Floresta Aleatória) é um metaestimador que ajusta vários classificadores de árvore de decisão em várias subamostras do conjunto de dados e usa a média para melhorar a precisão preditiva e o sobreajuste de controle.\n",
        "\n",
        "Fonte: https://scikit-learn.org/stable/modules/generated/sklearn.ensemble.RandomForestClassifier.html"
      ]
    },
    {
      "cell_type": "code",
      "metadata": {
        "colab": {
          "base_uri": "https://localhost:8080/"
        },
        "id": "e1rnHCzw7yQ5",
        "outputId": "d8cb73cd-499d-4b56-c50d-74d21f543708"
      },
      "source": [
        "rf = RandomForestClassifier(n_estimators=20, criterion='gini', random_state=1)\n",
        "rf.fit(X_train, y_train)\n",
        "prev = rf.predict(X_test)\n",
        "print('Acurácia:', (round(accuracy_score(y_test, prev),4)))"
      ],
      "execution_count": null,
      "outputs": [
        {
          "output_type": "stream",
          "name": "stdout",
          "text": [
            "Acurácia: 0.9275\n"
          ]
        }
      ]
    },
    {
      "cell_type": "code",
      "metadata": {
        "colab": {
          "base_uri": "https://localhost:8080/"
        },
        "id": "Wy_TtzXzm8TT",
        "outputId": "bab20fad-f125-43fc-e3e8-a322178f1427"
      },
      "source": [
        "confusion_matrix(y_test, prev)"
      ],
      "execution_count": null,
      "outputs": [
        {
          "output_type": "execute_result",
          "data": {
            "text/plain": [
              "array([[726,  60],\n",
              "       [ 56, 758]])"
            ]
          },
          "metadata": {},
          "execution_count": 39
        }
      ]
    },
    {
      "cell_type": "code",
      "metadata": {
        "colab": {
          "base_uri": "https://localhost:8080/",
          "height": 537
        },
        "id": "5XiriBSO9pJQ",
        "outputId": "cc11b792-f9f6-46ca-d000-40476998ebb5"
      },
      "source": [
        "cm = ConfusionMatrix(rf)\n",
        "cm.fit(X_train, y_train)\n",
        "cm.score(X_test, y_test)\n",
        "print(classification_report(y_test, prev))"
      ],
      "execution_count": null,
      "outputs": [
        {
          "output_type": "stream",
          "name": "stdout",
          "text": [
            "              precision    recall  f1-score   support\n",
            "\n",
            "           0       0.93      0.92      0.93       786\n",
            "           1       0.93      0.93      0.93       814\n",
            "\n",
            "    accuracy                           0.93      1600\n",
            "   macro avg       0.93      0.93      0.93      1600\n",
            "weighted avg       0.93      0.93      0.93      1600\n",
            "\n"
          ]
        },
        {
          "output_type": "display_data",
          "data": {
            "image/png": "[encoded data removed]",
            "text/plain": [
              "<Figure size 720x432 with 1 Axes>"
            ]
          },
          "metadata": {}
        }
      ]
    },
    {
      "cell_type": "markdown",
      "metadata": {
        "id": "nlX2xOjXeFHZ"
      },
      "source": [
        "## KNN\n",
        "\n",
        "**Resumo do processo realizado pelo algoritmo KNN**\n",
        "\n",
        "1 ) Recebe um dado não classificado e mede a distância do novo dado em relação a cada um dos outros dados que já estão classificados;\n",
        "\n",
        "2 ) Seleciona as K menores distâncias;\n",
        "\n",
        "3 ) Verifica a(s) classe(s) dos dados que tiveram as K menores distâncias e contabiliza a quantidade de vezes que cada classe apareceu;\n",
        "\n",
        "4 )  Classifica esse novo dado como pertencente à classe que mais apareceu.\n",
        "\n",
        "Fonte: https://didatica.tech/o-que-e-e-como-funciona-o-algoritmo-knn/"
      ]
    },
    {
      "cell_type": "code",
      "metadata": {
        "colab": {
          "base_uri": "https://localhost:8080/"
        },
        "id": "psHky-LPgovY",
        "outputId": "e045bcaf-434e-44fc-d352-efb18b94462e"
      },
      "source": [
        "knn = KNeighborsClassifier(n_neighbors=40, metric='minkowski', p=2)\n",
        "knn.fit(X_train, y_train)\n",
        "prev = knn.predict(X_test)\n",
        "print('Acurácia:', (round(accuracy_score(y_test, prev),4)))"
      ],
      "execution_count": null,
      "outputs": [
        {
          "output_type": "stream",
          "name": "stdout",
          "text": [
            "Acurácia: 0.8125\n"
          ]
        }
      ]
    },
    {
      "cell_type": "code",
      "metadata": {
        "colab": {
          "base_uri": "https://localhost:8080/"
        },
        "id": "W9uu8Q37nf6W",
        "outputId": "721bc51f-dbac-4c9f-a5ba-c6425f825725"
      },
      "source": [
        "confusion_matrix(y_test, prev)"
      ],
      "execution_count": null,
      "outputs": [
        {
          "output_type": "execute_result",
          "data": {
            "text/plain": [
              "array([[643, 143],\n",
              "       [157, 657]])"
            ]
          },
          "metadata": {},
          "execution_count": 42
        }
      ]
    },
    {
      "cell_type": "code",
      "metadata": {
        "colab": {
          "base_uri": "https://localhost:8080/",
          "height": 537
        },
        "id": "sMFHkjwmm5Kj",
        "outputId": "2c5ffc74-cb03-4721-de8f-2e6bf8cd0f64"
      },
      "source": [
        "cm = ConfusionMatrix(knn)\n",
        "cm.fit(X_train, y_train)\n",
        "cm.score(X_test, y_test)\n",
        "print(classification_report(y_test, prev))"
      ],
      "execution_count": null,
      "outputs": [
        {
          "output_type": "stream",
          "name": "stdout",
          "text": [
            "              precision    recall  f1-score   support\n",
            "\n",
            "           0       0.80      0.82      0.81       786\n",
            "           1       0.82      0.81      0.81       814\n",
            "\n",
            "    accuracy                           0.81      1600\n",
            "   macro avg       0.81      0.81      0.81      1600\n",
            "weighted avg       0.81      0.81      0.81      1600\n",
            "\n"
          ]
        },
        {
          "output_type": "display_data",
          "data": {
            "image/png": "[encoded data removed]",
            "text/plain": [
              "<Figure size 720x432 with 1 Axes>"
            ]
          },
          "metadata": {}
        }
      ]
    },
    {
      "cell_type": "markdown",
      "metadata": {
        "id": "UV-KLCThvdF5"
      },
      "source": [
        "# Tuning dos parâmetros\n",
        "\n",
        "O GridSearchCV é uma ferramenta usada para automatizar o processo de ajuste dos parâmetros de um algoritmo. Ele fará, de maneira sistemática, diversas combinações dos parâmetros, e depois de avaliá-los, os armazenará num único objeto.\n",
        "\n",
        "Fonte: https://andersonuyekita.github.io/notebooks/blog/2019/03/21/como-usar-o-gridsearchcv/"
      ]
    },
    {
      "cell_type": "code",
      "metadata": {
        "id": "oA47q97ovmTt",
        "colab": {
          "base_uri": "https://localhost:8080/"
        },
        "outputId": "a522e2d7-5192-4db6-d43e-43497cdbf927"
      },
      "source": [
        "n_estimators = [50, 100, 150, 200]\n",
        "criterion = ['gini', 'entropy']\n",
        "min_samples_split = [2, 5, 10]\n",
        "min_samples_leaf = [1, 4, 6, 8]\n",
        "max_features = ['auto', 'sqrt', 'log2']\n",
        "\n",
        "rf_parametros = {'n_estimators': n_estimators,\n",
        "                 'criterion': criterion,\n",
        "                 'min_samples_split': min_samples_split,\n",
        "                 'min_samples_leaf': min_samples_leaf,\n",
        "                 'max_features': max_features}\n",
        "\n",
        "RFtuning = GridSearchCV(estimator=RandomForestClassifier(random_state=42),\n",
        "                        param_grid=rf_parametros,                        \n",
        "                        cv=5)  \n",
        "RFtuning.fit(X_dados, y_dados) \n",
        "\n",
        "print('Melhores parâmetros:', RFtuning.best_params_)\n",
        "print('Melhor resultado:', RFtuning.best_score_)"
      ],
      "execution_count": null,
      "outputs": [
        {
          "output_type": "stream",
          "name": "stdout",
          "text": [
            "Melhores parâmetros: {'criterion': 'gini', 'max_features': 'auto', 'min_samples_leaf': 1, 'min_samples_split': 2, 'n_estimators': 200}\n",
            "Melhor resultado: 0.92775\n"
          ]
        }
      ]
    },
    {
      "cell_type": "markdown",
      "metadata": {
        "id": "vO9arA1k3kdd"
      },
      "source": [
        "# Validação cruzada\n",
        "\n",
        "O método de validação cruzada denominado k-fold consiste em dividir o conjunto total de dados em k subconjuntos mutuamente exclusivos do mesmo tamanho e, a partir daí, um subconjunto é utilizado para teste e os k-1 restantes são utilizados para estimação dos parâmetros, fazendo-se o cálculo da acurácia do modelo. Este processo é realizado k vezes alternando de forma circular o subconjunto de teste.\n",
        "\n",
        "Fonte: https://pt.wikipedia.org/wiki/Validação_cruzada"
      ]
    },
    {
      "cell_type": "markdown",
      "metadata": {
        "id": "Y1Hql1rBapAn"
      },
      "source": [
        "## Preparação dos dados"
      ]
    },
    {
      "cell_type": "code",
      "metadata": {
        "id": "ui8Lgp3yYDQt",
        "colab": {
          "base_uri": "https://localhost:8080/"
        },
        "outputId": "d4e315c1-06ac-4d75-8f91-e29b772fbe5e"
      },
      "source": [
        "with open('bank.pkl', 'rb') as f:\n",
        "  X_train, y_train, X_test, y_test = pickle.load(f) \n",
        "  X_dados = np.concatenate((X_train, X_test), axis = 0)\n",
        "  y_dados = np.concatenate((y_train, y_test), axis = 0)\n",
        "X_dados.shape, y_dados.shape"
      ],
      "execution_count": null,
      "outputs": [
        {
          "output_type": "execute_result",
          "data": {
            "text/plain": [
              "((8000, 16), (8000,))"
            ]
          },
          "metadata": {},
          "execution_count": 48
        }
      ]
    },
    {
      "cell_type": "markdown",
      "metadata": {
        "id": "r2hhjnchRmtP"
      },
      "source": [
        "## Processamento"
      ]
    },
    {
      "cell_type": "code",
      "metadata": {
        "id": "D7PRQegbXdFT"
      },
      "source": [
        "from sklearn.model_selection import cross_val_score, KFold"
      ],
      "execution_count": null,
      "outputs": []
    },
    {
      "cell_type": "code",
      "metadata": {
        "id": "AM9I1_j-RrC8",
        "colab": {
          "base_uri": "https://localhost:8080/"
        },
        "outputId": "e9fa0809-3b37-4a6a-cebd-96bf26e50505"
      },
      "source": [
        "kfold = KFold(n_splits=10, shuffle=True, random_state=42)\n",
        "  \n",
        "rf = RandomForestClassifier(criterion='gini', max_features='auto',min_samples_leaf=1,\n",
        "                            min_samples_split=2, n_estimators=200, random_state=42)\n",
        "scores = cross_val_score(rf, X_dados, y_dados, cv = kfold)\n",
        "for score in scores:\n",
        "  print('Accuracy:', round(score,4))"
      ],
      "execution_count": null,
      "outputs": [
        {
          "output_type": "stream",
          "name": "stdout",
          "text": [
            "Accuracy: 0.95\n",
            "Accuracy: 0.9275\n",
            "Accuracy: 0.94\n",
            "Accuracy: 0.9275\n",
            "Accuracy: 0.9412\n",
            "Accuracy: 0.945\n",
            "Accuracy: 0.935\n",
            "Accuracy: 0.9438\n",
            "Accuracy: 0.9288\n",
            "Accuracy: 0.9325\n"
          ]
        }
      ]
    },
    {
      "cell_type": "code",
      "metadata": {
        "colab": {
          "base_uri": "https://localhost:8080/",
          "height": 294
        },
        "id": "yrfIbqMzB4wT",
        "outputId": "68d39f7b-30fd-4c19-aabb-92d05366a1a9"
      },
      "source": [
        "result_cv = round(pd.DataFrame(scores),4)\n",
        "result_cv.describe()"
      ],
      "execution_count": null,
      "outputs": [
        {
          "output_type": "execute_result",
          "data": {
            "text/html": [
              "<div>\n",
              "<style scoped>\n",
              "    .dataframe tbody tr th:only-of-type {\n",
              "        vertical-align: middle;\n",
              "    }\n",
              "\n",
              "    .dataframe tbody tr th {\n",
              "        vertical-align: top;\n",
              "    }\n",
              "\n",
              "    .dataframe thead th {\n",
              "        text-align: right;\n",
              "    }\n",
              "</style>\n",
              "<table border=\"1\" class=\"dataframe\">\n",
              "  <thead>\n",
              "    <tr style=\"text-align: right;\">\n",
              "      <th></th>\n",
              "      <th>0</th>\n",
              "    </tr>\n",
              "  </thead>\n",
              "  <tbody>\n",
              "    <tr>\n",
              "      <th>count</th>\n",
              "      <td>10.000000</td>\n",
              "    </tr>\n",
              "    <tr>\n",
              "      <th>mean</th>\n",
              "      <td>0.937130</td>\n",
              "    </tr>\n",
              "    <tr>\n",
              "      <th>std</th>\n",
              "      <td>0.008012</td>\n",
              "    </tr>\n",
              "    <tr>\n",
              "      <th>min</th>\n",
              "      <td>0.927500</td>\n",
              "    </tr>\n",
              "    <tr>\n",
              "      <th>25%</th>\n",
              "      <td>0.929725</td>\n",
              "    </tr>\n",
              "    <tr>\n",
              "      <th>50%</th>\n",
              "      <td>0.937500</td>\n",
              "    </tr>\n",
              "    <tr>\n",
              "      <th>75%</th>\n",
              "      <td>0.943150</td>\n",
              "    </tr>\n",
              "    <tr>\n",
              "      <th>max</th>\n",
              "      <td>0.950000</td>\n",
              "    </tr>\n",
              "  </tbody>\n",
              "</table>\n",
              "</div>"
            ],
            "text/plain": [
              "               0\n",
              "count  10.000000\n",
              "mean    0.937130\n",
              "std     0.008012\n",
              "min     0.927500\n",
              "25%     0.929725\n",
              "50%     0.937500\n",
              "75%     0.943150\n",
              "max     0.950000"
            ]
          },
          "metadata": {},
          "execution_count": 51
        }
      ]
    },
    {
      "cell_type": "markdown",
      "metadata": {
        "id": "sCT2S9aUlBCf"
      },
      "source": [
        "# Salvar um classificador já treinado"
      ]
    },
    {
      "cell_type": "code",
      "metadata": {
        "colab": {
          "base_uri": "https://localhost:8080/"
        },
        "id": "AiTBlzp0ncFJ",
        "outputId": "df3813af-afe5-4ebc-e0b2-818e1924efc6"
      },
      "source": [
        "from sklearn.ensemble import RandomForestClassifier\n",
        "classificador_rf=RandomForestClassifier(criterion='gini', max_features='auto',min_samples_leaf=1,\n",
        "                                         min_samples_split=2, n_estimators=200, random_state=42)\n",
        "classificador_rf.fit(X_dados, y_dados)"
      ],
      "execution_count": null,
      "outputs": [
        {
          "output_type": "execute_result",
          "data": {
            "text/plain": [
              "RandomForestClassifier(bootstrap=True, ccp_alpha=0.0, class_weight=None,\n",
              "                       criterion='gini', max_depth=None, max_features='auto',\n",
              "                       max_leaf_nodes=None, max_samples=None,\n",
              "                       min_impurity_decrease=0.0, min_impurity_split=None,\n",
              "                       min_samples_leaf=1, min_samples_split=2,\n",
              "                       min_weight_fraction_leaf=0.0, n_estimators=200,\n",
              "                       n_jobs=None, oob_score=False, random_state=42, verbose=0,\n",
              "                       warm_start=False)"
            ]
          },
          "metadata": {},
          "execution_count": 52
        }
      ]
    },
    {
      "cell_type": "code",
      "metadata": {
        "id": "ocdiZyXOosW3"
      },
      "source": [
        "pickle.dump(classificador_rf, open('classificador_rf.sav', 'wb'))"
      ],
      "execution_count": null,
      "outputs": []
    },
    {
      "cell_type": "markdown",
      "metadata": {
        "id": "azNdbD6Xrl4c"
      },
      "source": [
        "# Carregar um classificador já treinado"
      ]
    },
    {
      "cell_type": "code",
      "metadata": {
        "id": "ChgMIrRgrtSb"
      },
      "source": [
        "random_forest = pickle.load(open('classificador_rf.sav', 'rb'))"
      ],
      "execution_count": null,
      "outputs": []
    },
    {
      "cell_type": "code",
      "metadata": {
        "colab": {
          "base_uri": "https://localhost:8080/"
        },
        "id": "u8_Sz8N1JJBz",
        "outputId": "7a1036f1-95e7-491c-bb87-584a451e7d37"
      },
      "source": [
        "novo_registro = X_dados[7999]\n",
        "novo_registro"
      ],
      "execution_count": null,
      "outputs": [
        {
          "output_type": "execute_result",
          "data": {
            "text/plain": [
              "array([0.67647059, 0.27272727, 0.5       , 0.        , 0.        ,\n",
              "       0.05041543, 0.        , 0.        , 0.        , 0.23333333,\n",
              "       0.45454545, 0.33995366, 0.02040816, 0.        , 0.        ,\n",
              "       1.        ])"
            ]
          },
          "metadata": {},
          "execution_count": 65
        }
      ]
    },
    {
      "cell_type": "code",
      "metadata": {
        "colab": {
          "base_uri": "https://localhost:8080/"
        },
        "id": "6EaPPVtPK1bW",
        "outputId": "eac06b7d-8bb4-40c5-b611-4f4f78bbc544"
      },
      "source": [
        "y_dados[7999]"
      ],
      "execution_count": null,
      "outputs": [
        {
          "output_type": "execute_result",
          "data": {
            "text/plain": [
              "1"
            ]
          },
          "metadata": {},
          "execution_count": 66
        }
      ]
    },
    {
      "cell_type": "code",
      "metadata": {
        "colab": {
          "base_uri": "https://localhost:8080/"
        },
        "id": "-zspoI7JtH9j",
        "outputId": "d56e5690-9b48-4942-bce0-76679912187a"
      },
      "source": [
        "novo_registro = novo_registro.reshape(1, -1)\n",
        "novo_registro.shape"
      ],
      "execution_count": null,
      "outputs": [
        {
          "output_type": "execute_result",
          "data": {
            "text/plain": [
              "(1, 16)"
            ]
          },
          "metadata": {},
          "execution_count": 67
        }
      ]
    },
    {
      "cell_type": "code",
      "metadata": {
        "colab": {
          "base_uri": "https://localhost:8080/"
        },
        "id": "viQIOiM6tnkg",
        "outputId": "bc31b9d4-7434-43c7-ebf9-b2fd536f6d19"
      },
      "source": [
        "classificador_rf.predict(novo_registro)"
      ],
      "execution_count": null,
      "outputs": [
        {
          "output_type": "execute_result",
          "data": {
            "text/plain": [
              "array([1], dtype=int8)"
            ]
          },
          "metadata": {},
          "execution_count": 68
        }
      ]
    }
  ]
}