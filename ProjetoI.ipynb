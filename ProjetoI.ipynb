{
  "nbformat": 4,
  "nbformat_minor": 0,
  "metadata": {
    "colab": {
      "name": "ProjetoI.ipynb",
      "provenance": [],
      "collapsed_sections": [],
      "include_colab_link": true
    },
    "kernelspec": {
      "display_name": "Python 3",
      "name": "python3"
    },
    "language_info": {
      "name": "python"
    }
  },
  "cells": [
    {
      "cell_type": "markdown",
      "metadata": {
        "id": "view-in-github",
        "colab_type": "text"
      },
      "source": [
        "<a href=\"https://colab.research.google.com/github/rogerio-bnu/estudo-de-machine-learning/blob/main/ProjetoI.ipynb\" target=\"_parent\"><img src=\"https://colab.research.google.com/assets/colab-badge.svg\" alt=\"Open In Colab\"/></a>"
      ]
    },
    {
      "cell_type": "markdown",
      "metadata": {
        "id": "Cgw10_4MUXQ5"
      },
      "source": [
        "# **Projeto I - Aplicação de Métodos de Aprendizagem de Máquinas - UNIASSELVI**"
      ]
    },
    {
      "cell_type": "markdown",
      "metadata": {
        "id": "fAl0QkdPkITH"
      },
      "source": [
        "# Definição do Tema\n",
        "\n",
        "Será utilizada um conjunto de dados no formato csv (https://archive.ics.uci.edu/ml/datasets/Bank+Marketingh). Os dados referem-se a campanhas de marketing direto de uma instituição bancária portuguesa.\n",
        "As campanhas de marketing foram baseadas em ligações telefônicas para os clientes, e o objetivo era fazer a captação de depósitos à prazo.\n",
        "Um dos  problemas desse dataset é a grande discrepância entre o número de clientes contactados que aderiram à campanha (4.000), e os que não aderiram (521). Esse desequilíbrio dos dados faz com que os resultados das predições sejam bem ruins. Esse problema será resolvido na fase de pré-processamento, onde será aplicado o método SMOTE, que adicionará registros da classe minoritária, igualando-a à classe majoritária. Também será feita a conversão dos atributos categóricos para numéricos, pois a maioria dos métodos de machine learning só trabalham com este tipo de dados. Após a transformação dos dados, será feita a padronização da base, trazendo todos os atributos para uma escala entre 0 e 1."
      ]
    },
    {
      "cell_type": "markdown",
      "metadata": {
        "id": "njQ6_FVtxeZH"
      },
      "source": [
        "# Objetivo\n",
        "Esse projeto tem como objetivo desenvolver um modelo de Machine Learning que faça a previsão se um cliente contactado pelo banco irá ou não aderir a campanha, ou seja, fará ou não uma aplicação financeira."
      ]
    },
    {
      "cell_type": "markdown",
      "metadata": {
        "id": "5zX_A1d9z_J6"
      },
      "source": [
        "# Especificação Técnica\n",
        "Número de atributos: 16 atributos de entrada e 1 atributo de saída.\n",
        "\n",
        "Variáveis de entrada:\n",
        "- age: idade (numérica discreta)\n",
        "- job: tipo de trabalho (categórica nominal)\n",
        "- marital: estado civil (categórica nominal)\n",
        "- education: grau de instrução (categórica ordinal)\n",
        "- default: tem crédito inadimplente? (categórica nominal)\n",
        "- balance: saldo médio anual, em euros (numérica contínua) \n",
        "- housing: tem crédito habitaconal? (categórica nominal)\n",
        "- loan: tem empréstimo pessoal? (categórica nominal)\n",
        "- contact: tipo de comunicação do contato (categórica nominal)\n",
        "- day: último dia de contato do mês (numérica discreta)\n",
        "- month: último mês de contato do ano (categórica ordinal)\n",
        "- duration: duração do último contato, em segundos (numérica discreta)\n",
        "- campaign: quantidade de contatos realizados durante esta campanha e para este cliente (numérica discreta)\n",
        "- pdays: número de dias que passaram após o último contato do cliente de uma campanha anterior (numérica discreta)\n",
        "- previous: número de contatos realizados antes desta campanha e para este cliente (numérica discreta)\n",
        "- potcome: resultado da campanha de marketing anterior (categórica nominal)\n",
        "\n",
        "Variável de saída (alvo desejado):\n",
        "- deposit: o cliente efetuou um depósito a prazo? (categórica nominal)\n",
        "\n",
        "A base de dados será dividida em 80% para treinamento, e 20% para teste.\n",
        "Serão aplicados tres métodos de Machine Learning: Árvore de decisão (*DecisionTreeClassifier*), Random Forest (*RandomForestClassifier*) e KNN (*KNeighborsClassifier*), todos da biblioteca *sickit-learn*.\n",
        "Para avaliação dos métodos, serão levadas em consideração as métricas *accuracy* e *recall*.\n",
        "\n",
        "\n",
        "\n"
      ]
    },
    {
      "cell_type": "markdown",
      "metadata": {
        "id": "1NHI2InRU4r_"
      },
      "source": [
        "# Importação das bibliotecas básicas"
      ]
    },
    {
      "cell_type": "code",
      "metadata": {
        "id": "3gNmDjO8VNql",
        "colab": {
          "base_uri": "https://localhost:8080/"
        },
        "outputId": "1c272438-716c-4855-b97f-06f97bb97f5d"
      },
      "source": [
        "# suprimir os warnings\n",
        "from warnings import simplefilter\n",
        "simplefilter(action='ignore', category=FutureWarning)\n",
        "\n",
        "!pip install plotly --upgrade"
      ],
      "execution_count": 2,
      "outputs": [
        {
          "output_type": "stream",
          "name": "stdout",
          "text": [
            "Requirement already satisfied: plotly in /usr/local/lib/python3.7/dist-packages (4.4.1)\n",
            "Collecting plotly\n",
            "  Downloading plotly-5.4.0-py2.py3-none-any.whl (25.3 MB)\n",
            "\u001b[K     |████████████████████████████████| 25.3 MB 50.7 MB/s \n",
            "\u001b[?25hRequirement already satisfied: six in /usr/local/lib/python3.7/dist-packages (from plotly) (1.15.0)\n",
            "Collecting tenacity>=6.2.0\n",
            "  Downloading tenacity-8.0.1-py3-none-any.whl (24 kB)\n",
            "Installing collected packages: tenacity, plotly\n",
            "  Attempting uninstall: plotly\n",
            "    Found existing installation: plotly 4.4.1\n",
            "    Uninstalling plotly-4.4.1:\n",
            "      Successfully uninstalled plotly-4.4.1\n",
            "Successfully installed plotly-5.4.0 tenacity-8.0.1\n"
          ]
        }
      ]
    },
    {
      "cell_type": "code",
      "metadata": {
        "id": "o3icea9dVfB1"
      },
      "source": [
        "import pandas as pd\n",
        "import numpy as np\n",
        "import seaborn as sns\n",
        "import matplotlib.pyplot as plt\n",
        "import plotly.express as px\n",
        "import pickle\n",
        "\n",
        "from sklearn.model_selection import train_test_split\n",
        "from sklearn.metrics import accuracy_score, confusion_matrix, classification_report\n",
        "from yellowbrick.classifier import ConfusionMatrix\n",
        "from sklearn.tree import DecisionTreeClassifier\n",
        "from sklearn.ensemble import RandomForestClassifier\n",
        "from sklearn.neighbors import KNeighborsClassifier\n",
        "from sklearn.model_selection import GridSearchCV\n",
        "\n",
        "%matplotlib inline"
      ],
      "execution_count": 3,
      "outputs": []
    },
    {
      "cell_type": "markdown",
      "metadata": {
        "id": "4dTwXinZWu8D"
      },
      "source": [
        "# Marketing de banco\n",
        "\n",
        "\n",
        "*   Fonte: https://archive.ics.uci.edu/ml/datasets/Bank+Marketing\n",
        "\n"
      ]
    },
    {
      "cell_type": "markdown",
      "metadata": {
        "id": "61Yz6HHQecHU"
      },
      "source": [
        "# Pré - Processamento"
      ]
    },
    {
      "cell_type": "markdown",
      "metadata": {
        "id": "ilamplfUXZVS"
      },
      "source": [
        "## Carregamento da base e visualização dos dados"
      ]
    },
    {
      "cell_type": "code",
      "metadata": {
        "id": "rcGb2-SMXtIG",
        "colab": {
          "base_uri": "https://localhost:8080/",
          "height": 226
        },
        "outputId": "90267d04-3f07-4757-fe64-a3b253210d84"
      },
      "source": [
        "dados = pd.read_csv('bank.csv', sep=';')\n",
        "dados.head()"
      ],
      "execution_count": 5,
      "outputs": [
        {
          "output_type": "execute_result",
          "data": {
            "text/html": [
              "<div>\n",
              "<style scoped>\n",
              "    .dataframe tbody tr th:only-of-type {\n",
              "        vertical-align: middle;\n",
              "    }\n",
              "\n",
              "    .dataframe tbody tr th {\n",
              "        vertical-align: top;\n",
              "    }\n",
              "\n",
              "    .dataframe thead th {\n",
              "        text-align: right;\n",
              "    }\n",
              "</style>\n",
              "<table border=\"1\" class=\"dataframe\">\n",
              "  <thead>\n",
              "    <tr style=\"text-align: right;\">\n",
              "      <th></th>\n",
              "      <th>age</th>\n",
              "      <th>job</th>\n",
              "      <th>marital</th>\n",
              "      <th>education</th>\n",
              "      <th>default</th>\n",
              "      <th>balance</th>\n",
              "      <th>housing</th>\n",
              "      <th>loan</th>\n",
              "      <th>contact</th>\n",
              "      <th>day</th>\n",
              "      <th>month</th>\n",
              "      <th>duration</th>\n",
              "      <th>campaign</th>\n",
              "      <th>pdays</th>\n",
              "      <th>previous</th>\n",
              "      <th>poutcome</th>\n",
              "      <th>deposit</th>\n",
              "    </tr>\n",
              "  </thead>\n",
              "  <tbody>\n",
              "    <tr>\n",
              "      <th>0</th>\n",
              "      <td>30</td>\n",
              "      <td>unemployed</td>\n",
              "      <td>married</td>\n",
              "      <td>primary</td>\n",
              "      <td>no</td>\n",
              "      <td>1787</td>\n",
              "      <td>no</td>\n",
              "      <td>no</td>\n",
              "      <td>cellular</td>\n",
              "      <td>19</td>\n",
              "      <td>oct</td>\n",
              "      <td>79</td>\n",
              "      <td>1</td>\n",
              "      <td>-1</td>\n",
              "      <td>0</td>\n",
              "      <td>unknown</td>\n",
              "      <td>no</td>\n",
              "    </tr>\n",
              "    <tr>\n",
              "      <th>1</th>\n",
              "      <td>33</td>\n",
              "      <td>services</td>\n",
              "      <td>married</td>\n",
              "      <td>secondary</td>\n",
              "      <td>no</td>\n",
              "      <td>4789</td>\n",
              "      <td>yes</td>\n",
              "      <td>yes</td>\n",
              "      <td>cellular</td>\n",
              "      <td>11</td>\n",
              "      <td>may</td>\n",
              "      <td>220</td>\n",
              "      <td>1</td>\n",
              "      <td>339</td>\n",
              "      <td>4</td>\n",
              "      <td>failure</td>\n",
              "      <td>no</td>\n",
              "    </tr>\n",
              "    <tr>\n",
              "      <th>2</th>\n",
              "      <td>35</td>\n",
              "      <td>management</td>\n",
              "      <td>single</td>\n",
              "      <td>tertiary</td>\n",
              "      <td>no</td>\n",
              "      <td>1350</td>\n",
              "      <td>yes</td>\n",
              "      <td>no</td>\n",
              "      <td>cellular</td>\n",
              "      <td>16</td>\n",
              "      <td>apr</td>\n",
              "      <td>185</td>\n",
              "      <td>1</td>\n",
              "      <td>330</td>\n",
              "      <td>1</td>\n",
              "      <td>failure</td>\n",
              "      <td>no</td>\n",
              "    </tr>\n",
              "    <tr>\n",
              "      <th>3</th>\n",
              "      <td>30</td>\n",
              "      <td>management</td>\n",
              "      <td>married</td>\n",
              "      <td>tertiary</td>\n",
              "      <td>no</td>\n",
              "      <td>1476</td>\n",
              "      <td>yes</td>\n",
              "      <td>yes</td>\n",
              "      <td>unknown</td>\n",
              "      <td>3</td>\n",
              "      <td>jun</td>\n",
              "      <td>199</td>\n",
              "      <td>4</td>\n",
              "      <td>-1</td>\n",
              "      <td>0</td>\n",
              "      <td>unknown</td>\n",
              "      <td>no</td>\n",
              "    </tr>\n",
              "    <tr>\n",
              "      <th>4</th>\n",
              "      <td>59</td>\n",
              "      <td>blue-collar</td>\n",
              "      <td>married</td>\n",
              "      <td>secondary</td>\n",
              "      <td>no</td>\n",
              "      <td>0</td>\n",
              "      <td>yes</td>\n",
              "      <td>no</td>\n",
              "      <td>unknown</td>\n",
              "      <td>5</td>\n",
              "      <td>may</td>\n",
              "      <td>226</td>\n",
              "      <td>1</td>\n",
              "      <td>-1</td>\n",
              "      <td>0</td>\n",
              "      <td>unknown</td>\n",
              "      <td>no</td>\n",
              "    </tr>\n",
              "  </tbody>\n",
              "</table>\n",
              "</div>"
            ],
            "text/plain": [
              "   age          job  marital  education  ... pdays  previous poutcome deposit\n",
              "0   30   unemployed  married    primary  ...    -1         0  unknown      no\n",
              "1   33     services  married  secondary  ...   339         4  failure      no\n",
              "2   35   management   single   tertiary  ...   330         1  failure      no\n",
              "3   30   management  married   tertiary  ...    -1         0  unknown      no\n",
              "4   59  blue-collar  married  secondary  ...    -1         0  unknown      no\n",
              "\n",
              "[5 rows x 17 columns]"
            ]
          },
          "metadata": {},
          "execution_count": 5
        }
      ]
    },
    {
      "cell_type": "markdown",
      "metadata": {
        "id": "2yfmUxrFjuXq"
      },
      "source": [
        "## Tratamento de valores faltantes"
      ]
    },
    {
      "cell_type": "code",
      "metadata": {
        "colab": {
          "base_uri": "https://localhost:8080/"
        },
        "id": "bRZsw9oIjywo",
        "outputId": "49ef2286-3fcf-4b5f-c368-d05680e5a2e6"
      },
      "source": [
        "dados.isnull().sum()"
      ],
      "execution_count": 6,
      "outputs": [
        {
          "output_type": "execute_result",
          "data": {
            "text/plain": [
              "age          0\n",
              "job          0\n",
              "marital      0\n",
              "education    0\n",
              "default      0\n",
              "balance      0\n",
              "housing      0\n",
              "loan         0\n",
              "contact      0\n",
              "day          0\n",
              "month        0\n",
              "duration     0\n",
              "campaign     0\n",
              "pdays        0\n",
              "previous     0\n",
              "poutcome     0\n",
              "deposit      0\n",
              "dtype: int64"
            ]
          },
          "metadata": {},
          "execution_count": 6
        }
      ]
    },
    {
      "cell_type": "code",
      "metadata": {
        "colab": {
          "base_uri": "https://localhost:8080/"
        },
        "id": "tul_jPxfaUBD",
        "outputId": "95f04b83-75d1-4527-b432-d4af36cb8f0c"
      },
      "source": [
        "dados.info()"
      ],
      "execution_count": 7,
      "outputs": [
        {
          "output_type": "stream",
          "name": "stdout",
          "text": [
            "<class 'pandas.core.frame.DataFrame'>\n",
            "RangeIndex: 5806 entries, 0 to 5805\n",
            "Data columns (total 17 columns):\n",
            " #   Column     Non-Null Count  Dtype \n",
            "---  ------     --------------  ----- \n",
            " 0   age        5806 non-null   int64 \n",
            " 1   job        5806 non-null   object\n",
            " 2   marital    5806 non-null   object\n",
            " 3   education  5806 non-null   object\n",
            " 4   default    5806 non-null   object\n",
            " 5   balance    5806 non-null   int64 \n",
            " 6   housing    5806 non-null   object\n",
            " 7   loan       5806 non-null   object\n",
            " 8   contact    5806 non-null   object\n",
            " 9   day        5806 non-null   int64 \n",
            " 10  month      5806 non-null   object\n",
            " 11  duration   5806 non-null   int64 \n",
            " 12  campaign   5806 non-null   int64 \n",
            " 13  pdays      5806 non-null   int64 \n",
            " 14  previous   5806 non-null   int64 \n",
            " 15  poutcome   5806 non-null   object\n",
            " 16  deposit    5806 non-null   object\n",
            "dtypes: int64(7), object(10)\n",
            "memory usage: 771.2+ KB\n"
          ]
        }
      ]
    },
    {
      "cell_type": "code",
      "metadata": {
        "colab": {
          "base_uri": "https://localhost:8080/"
        },
        "id": "vTEBojkvf6ZE",
        "outputId": "a22294cf-094f-4662-f432-2fa6db7eb57e"
      },
      "source": [
        "dados.values"
      ],
      "execution_count": 8,
      "outputs": [
        {
          "output_type": "execute_result",
          "data": {
            "text/plain": [
              "array([[30, 'unemployed', 'married', ..., 0, 'unknown', 'no'],\n",
              "       [33, 'services', 'married', ..., 4, 'failure', 'no'],\n",
              "       [35, 'management', 'single', ..., 1, 'failure', 'no'],\n",
              "       ...,\n",
              "       [68, 'retired', 'married', ..., 6, 'success', 'yes'],\n",
              "       [53, 'management', 'married', ..., 4, 'success', 'yes'],\n",
              "       [72, 'retired', 'married', ..., 3, 'success', 'yes']], dtype=object)"
            ]
          },
          "metadata": {},
          "execution_count": 8
        }
      ]
    },
    {
      "cell_type": "code",
      "metadata": {
        "colab": {
          "base_uri": "https://localhost:8080/",
          "height": 475
        },
        "id": "30BveXqiEK1z",
        "outputId": "29879a7e-20a9-42ea-ea61-ee05b1e2cdfd"
      },
      "source": [
        "sns.set_theme(style='darkgrid')\n",
        "sns.set(rc = {'figure.figsize':(10, 6)})\n",
        "job = sns.countplot(x=\"job\", data = dados, hue = \"deposit\", order = dados[\"job\"].value_counts().index)\n",
        "job.tick_params(axis='x', rotation=60)\n",
        "plt.title(\"Análise bivariada da relação entre perfil profissional e depósito\")\n",
        "plt.show()"
      ],
      "execution_count": 9,
      "outputs": [
        {
          "output_type": "display_data",
          "data": {
            "image/png": "[encoded data removed]",
            "text/plain": [
              "<Figure size 720x432 with 1 Axes>"
            ]
          },
          "metadata": {}
        }
      ]
    },
    {
      "cell_type": "code",
      "metadata": {
        "colab": {
          "base_uri": "https://localhost:8080/",
          "height": 448
        },
        "id": "s1pcXt7DGu0F",
        "outputId": "d83d4a7d-fe85-449c-ae4a-a4b759fc6698"
      },
      "source": [
        "sns.set_theme(style='darkgrid')\n",
        "sns.set(rc = {'figure.figsize':(10, 6)})\n",
        "marital = sns.countplot(x=\"marital\", data = dados, hue = \"deposit\", order = dados[\"marital\"].value_counts().index)\n",
        "marital.tick_params(axis='x', rotation=60)\n",
        "plt.title(\"Análise bivariada da relação entre estado civil e depósito\")\n",
        "plt.show()"
      ],
      "execution_count": 10,
      "outputs": [
        {
          "output_type": "display_data",
          "data": {
            "image/png": "[encoded data removed]",
            "text/plain": [
              "<Figure size 720x432 with 1 Axes>"
            ]
          },
          "metadata": {}
        }
      ]
    },
    {
      "cell_type": "code",
      "metadata": {
        "colab": {
          "base_uri": "https://localhost:8080/",
          "height": 457
        },
        "id": "EPRN9uSRMTlJ",
        "outputId": "16f119c2-a49c-49f1-fbf3-d12a17c3ebeb"
      },
      "source": [
        "sns.set_theme(style='darkgrid')\n",
        "sns.set(rc = {'figure.figsize':(10, 6)})\n",
        "education = sns.countplot(x=\"education\", data = dados, hue = \"deposit\", order = dados[\"education\"].value_counts().index)\n",
        "education.tick_params(axis='x', rotation=60)\n",
        "plt.title(\"Análise bivariada da relação entre nível de educação e depósito\")\n",
        "plt.show()"
      ],
      "execution_count": 11,
      "outputs": [
        {
          "output_type": "display_data",
          "data": {
            "image/png": "[encoded data removed]",
            "text/plain": [
              "<Figure size 720x432 with 1 Axes>"
            ]
          },
          "metadata": {}
        }
      ]
    },
    {
      "cell_type": "markdown",
      "metadata": {
        "id": "boryJElWyPfG"
      },
      "source": [
        "**Transformação de atributos categóricos:** \n",
        "\n",
        "Após a transformação, foi atribuído o valor 0 aos clientes que não aderiram à campanha, e 1 aos que aderiram."
      ]
    },
    {
      "cell_type": "code",
      "metadata": {
        "id": "y6SqCinmc0xS"
      },
      "source": [
        "for col_name in dados.columns:\n",
        "  if (dados[col_name].dtype == 'object'):\n",
        "    dados[col_name] = dados[col_name].astype('category')\n",
        "    dados[col_name] = dados[col_name].cat.codes"
      ],
      "execution_count": 12,
      "outputs": []
    },
    {
      "cell_type": "code",
      "metadata": {
        "colab": {
          "base_uri": "https://localhost:8080/",
          "height": 206
        },
        "id": "RC3Ikvoc4EGN",
        "outputId": "2fd0166f-3b7c-4dbb-cf9c-9d6f2784d6e1"
      },
      "source": [
        "dados.head()"
      ],
      "execution_count": 13,
      "outputs": [
        {
          "output_type": "execute_result",
          "data": {
            "text/html": [
              "<div>\n",
              "<style scoped>\n",
              "    .dataframe tbody tr th:only-of-type {\n",
              "        vertical-align: middle;\n",
              "    }\n",
              "\n",
              "    .dataframe tbody tr th {\n",
              "        vertical-align: top;\n",
              "    }\n",
              "\n",
              "    .dataframe thead th {\n",
              "        text-align: right;\n",
              "    }\n",
              "</style>\n",
              "<table border=\"1\" class=\"dataframe\">\n",
              "  <thead>\n",
              "    <tr style=\"text-align: right;\">\n",
              "      <th></th>\n",
              "      <th>age</th>\n",
              "      <th>job</th>\n",
              "      <th>marital</th>\n",
              "      <th>education</th>\n",
              "      <th>default</th>\n",
              "      <th>balance</th>\n",
              "      <th>housing</th>\n",
              "      <th>loan</th>\n",
              "      <th>contact</th>\n",
              "      <th>day</th>\n",
              "      <th>month</th>\n",
              "      <th>duration</th>\n",
              "      <th>campaign</th>\n",
              "      <th>pdays</th>\n",
              "      <th>previous</th>\n",
              "      <th>poutcome</th>\n",
              "      <th>deposit</th>\n",
              "    </tr>\n",
              "  </thead>\n",
              "  <tbody>\n",
              "    <tr>\n",
              "      <th>0</th>\n",
              "      <td>30</td>\n",
              "      <td>10</td>\n",
              "      <td>1</td>\n",
              "      <td>0</td>\n",
              "      <td>0</td>\n",
              "      <td>1787</td>\n",
              "      <td>0</td>\n",
              "      <td>0</td>\n",
              "      <td>0</td>\n",
              "      <td>19</td>\n",
              "      <td>10</td>\n",
              "      <td>79</td>\n",
              "      <td>1</td>\n",
              "      <td>-1</td>\n",
              "      <td>0</td>\n",
              "      <td>3</td>\n",
              "      <td>0</td>\n",
              "    </tr>\n",
              "    <tr>\n",
              "      <th>1</th>\n",
              "      <td>33</td>\n",
              "      <td>7</td>\n",
              "      <td>1</td>\n",
              "      <td>1</td>\n",
              "      <td>0</td>\n",
              "      <td>4789</td>\n",
              "      <td>1</td>\n",
              "      <td>1</td>\n",
              "      <td>0</td>\n",
              "      <td>11</td>\n",
              "      <td>8</td>\n",
              "      <td>220</td>\n",
              "      <td>1</td>\n",
              "      <td>339</td>\n",
              "      <td>4</td>\n",
              "      <td>0</td>\n",
              "      <td>0</td>\n",
              "    </tr>\n",
              "    <tr>\n",
              "      <th>2</th>\n",
              "      <td>35</td>\n",
              "      <td>4</td>\n",
              "      <td>2</td>\n",
              "      <td>2</td>\n",
              "      <td>0</td>\n",
              "      <td>1350</td>\n",
              "      <td>1</td>\n",
              "      <td>0</td>\n",
              "      <td>0</td>\n",
              "      <td>16</td>\n",
              "      <td>0</td>\n",
              "      <td>185</td>\n",
              "      <td>1</td>\n",
              "      <td>330</td>\n",
              "      <td>1</td>\n",
              "      <td>0</td>\n",
              "      <td>0</td>\n",
              "    </tr>\n",
              "    <tr>\n",
              "      <th>3</th>\n",
              "      <td>30</td>\n",
              "      <td>4</td>\n",
              "      <td>1</td>\n",
              "      <td>2</td>\n",
              "      <td>0</td>\n",
              "      <td>1476</td>\n",
              "      <td>1</td>\n",
              "      <td>1</td>\n",
              "      <td>2</td>\n",
              "      <td>3</td>\n",
              "      <td>6</td>\n",
              "      <td>199</td>\n",
              "      <td>4</td>\n",
              "      <td>-1</td>\n",
              "      <td>0</td>\n",
              "      <td>3</td>\n",
              "      <td>0</td>\n",
              "    </tr>\n",
              "    <tr>\n",
              "      <th>4</th>\n",
              "      <td>59</td>\n",
              "      <td>1</td>\n",
              "      <td>1</td>\n",
              "      <td>1</td>\n",
              "      <td>0</td>\n",
              "      <td>0</td>\n",
              "      <td>1</td>\n",
              "      <td>0</td>\n",
              "      <td>2</td>\n",
              "      <td>5</td>\n",
              "      <td>8</td>\n",
              "      <td>226</td>\n",
              "      <td>1</td>\n",
              "      <td>-1</td>\n",
              "      <td>0</td>\n",
              "      <td>3</td>\n",
              "      <td>0</td>\n",
              "    </tr>\n",
              "  </tbody>\n",
              "</table>\n",
              "</div>"
            ],
            "text/plain": [
              "   age  job  marital  education  ...  pdays  previous  poutcome  deposit\n",
              "0   30   10        1          0  ...     -1         0         3        0\n",
              "1   33    7        1          1  ...    339         4         0        0\n",
              "2   35    4        2          2  ...    330         1         0        0\n",
              "3   30    4        1          2  ...     -1         0         3        0\n",
              "4   59    1        1          1  ...     -1         0         3        0\n",
              "\n",
              "[5 rows x 17 columns]"
            ]
          },
          "metadata": {},
          "execution_count": 13
        }
      ]
    },
    {
      "cell_type": "code",
      "metadata": {
        "colab": {
          "base_uri": "https://localhost:8080/"
        },
        "id": "DOwexIeCtn-u",
        "outputId": "bd435fe7-c7e6-4c18-abcc-15da04b8c9ca"
      },
      "source": [
        "dados.deposit.value_counts()"
      ],
      "execution_count": 14,
      "outputs": [
        {
          "output_type": "execute_result",
          "data": {
            "text/plain": [
              "0    4000\n",
              "1    1806\n",
              "Name: deposit, dtype: int64"
            ]
          },
          "metadata": {},
          "execution_count": 14
        }
      ]
    },
    {
      "cell_type": "code",
      "metadata": {
        "colab": {
          "base_uri": "https://localhost:8080/",
          "height": 396
        },
        "id": "kGeOz4-ItvUO",
        "outputId": "a320555f-89b0-42c9-b28f-9eca8cb6a29f"
      },
      "source": [
        "ax = sns.countplot(x='deposit', data=dados)"
      ],
      "execution_count": 15,
      "outputs": [
        {
          "output_type": "display_data",
          "data": {
            "image/png": "[encoded data removed]",
            "text/plain": [
              "<Figure size 720x432 with 1 Axes>"
            ]
          },
          "metadata": {}
        }
      ]
    },
    {
      "cell_type": "markdown",
      "metadata": {
        "id": "UrYxSnqL7L2L"
      },
      "source": [
        "## Divisão entre previsores e classe"
      ]
    },
    {
      "cell_type": "code",
      "metadata": {
        "colab": {
          "base_uri": "https://localhost:8080/"
        },
        "id": "nsjTBBuP7Sm3",
        "outputId": "2e3f7cf5-7e92-4e3b-eb96-a6f7b3ca4560"
      },
      "source": [
        "X_dados = dados.drop('deposit', axis=1)\n",
        "y_dados = dados.deposit\n",
        "print(X_dados.shape)\n",
        "print(y_dados.shape)"
      ],
      "execution_count": 16,
      "outputs": [
        {
          "output_type": "stream",
          "name": "stdout",
          "text": [
            "(5806, 16)\n",
            "(5806,)\n"
          ]
        }
      ]
    },
    {
      "cell_type": "markdown",
      "metadata": {
        "id": "0qQw_DxE8c7b"
      },
      "source": [
        "## Padronização da base de dados"
      ]
    },
    {
      "cell_type": "code",
      "metadata": {
        "id": "kMMueJ9q8hYL"
      },
      "source": [
        "from sklearn.preprocessing import MinMaxScaler\n",
        "minmax_x = MinMaxScaler()\n",
        "X_dados = minmax_x.fit_transform(X_dados)"
      ],
      "execution_count": 17,
      "outputs": []
    },
    {
      "cell_type": "code",
      "metadata": {
        "colab": {
          "base_uri": "https://localhost:8080/"
        },
        "id": "UR5APx1Y-7Mi",
        "outputId": "58c4e9dd-23f0-49d9-e2f4-246a41894cb4"
      },
      "source": [
        "X_dados"
      ],
      "execution_count": 18,
      "outputs": [
        {
          "output_type": "execute_result",
          "data": {
            "text/plain": [
              "array([[0.16      , 0.90909091, 0.5       , ..., 0.        , 0.        ,\n",
              "        1.        ],\n",
              "       [0.2       , 0.63636364, 0.5       , ..., 0.38990826, 0.06896552,\n",
              "        0.        ],\n",
              "       [0.22666667, 0.36363636, 1.        , ..., 0.37958716, 0.01724138,\n",
              "        0.        ],\n",
              "       ...,\n",
              "       [0.66666667, 0.45454545, 0.5       , ..., 0.21559633, 0.10344828,\n",
              "        0.66666667],\n",
              "       [0.46666667, 0.36363636, 0.5       , ..., 0.21215596, 0.06896552,\n",
              "        0.66666667],\n",
              "       [0.72      , 0.45454545, 0.5       , ..., 0.21215596, 0.05172414,\n",
              "        0.66666667]])"
            ]
          },
          "metadata": {},
          "execution_count": 18
        }
      ]
    },
    {
      "cell_type": "markdown",
      "metadata": {
        "id": "ID6eMCJh6lYL"
      },
      "source": [
        "## Divisão entre treinamento e teste"
      ]
    },
    {
      "cell_type": "code",
      "metadata": {
        "id": "bTMyaTSg7x0h"
      },
      "source": [
        "X_train, X_test, y_train, y_test = train_test_split(X_dados, y_dados, test_size=0.20, shuffle=True, random_state=42)"
      ],
      "execution_count": 19,
      "outputs": []
    },
    {
      "cell_type": "code",
      "metadata": {
        "colab": {
          "base_uri": "https://localhost:8080/"
        },
        "id": "00j-8ibf8zKB",
        "outputId": "9b80a422-992b-441b-8ddb-21dcd97081a2"
      },
      "source": [
        "X_train.shape, X_test.shape"
      ],
      "execution_count": 20,
      "outputs": [
        {
          "output_type": "execute_result",
          "data": {
            "text/plain": [
              "((4644, 16), (1162, 16))"
            ]
          },
          "metadata": {},
          "execution_count": 20
        }
      ]
    },
    {
      "cell_type": "code",
      "metadata": {
        "colab": {
          "base_uri": "https://localhost:8080/"
        },
        "id": "bD3cRG6qCHm6",
        "outputId": "08237dc6-6387-403a-8ae4-8a7735b942f9"
      },
      "source": [
        "y_train.value_counts()"
      ],
      "execution_count": 21,
      "outputs": [
        {
          "output_type": "execute_result",
          "data": {
            "text/plain": [
              "0    3199\n",
              "1    1445\n",
              "Name: deposit, dtype: int64"
            ]
          },
          "metadata": {},
          "execution_count": 21
        }
      ]
    },
    {
      "cell_type": "code",
      "metadata": {
        "colab": {
          "base_uri": "https://localhost:8080/"
        },
        "id": "f-k3BVkygT80",
        "outputId": "d904af3e-758d-4277-a08d-b76782e58366"
      },
      "source": [
        "y_test.value_counts()"
      ],
      "execution_count": 22,
      "outputs": [
        {
          "output_type": "execute_result",
          "data": {
            "text/plain": [
              "0    801\n",
              "1    361\n",
              "Name: deposit, dtype: int64"
            ]
          },
          "metadata": {},
          "execution_count": 22
        }
      ]
    },
    {
      "cell_type": "markdown",
      "metadata": {
        "id": "ZmxYEeMpD4Jk"
      },
      "source": [
        "## Salvar as variáveis\n",
        "\n",
        "Após o tratamento dos dados e a divisão entre treinamento e teste, os dados são salvos em disco, para aplicações posteriores."
      ]
    },
    {
      "cell_type": "code",
      "metadata": {
        "id": "867lr27vEIIT"
      },
      "source": [
        "with open('bank.pkl', mode = 'wb') as f:\n",
        "  pickle.dump([X_train, y_train, X_test, y_test], f)"
      ],
      "execution_count": 23,
      "outputs": []
    },
    {
      "cell_type": "markdown",
      "metadata": {
        "id": "8ju_vpTiyI3b"
      },
      "source": [
        "# Aplicação dos algoritmos"
      ]
    },
    {
      "cell_type": "code",
      "metadata": {
        "id": "AFOjgxsjyoDg"
      },
      "source": [
        "with open('bank.pkl', 'rb') as f:\n",
        "  X_train, y_train, X_test, y_test = pickle.load(f)"
      ],
      "execution_count": 24,
      "outputs": []
    },
    {
      "cell_type": "code",
      "metadata": {
        "colab": {
          "base_uri": "https://localhost:8080/"
        },
        "id": "7RkrIYXmtLyI",
        "outputId": "96c2f463-401d-4599-c087-06883022f983"
      },
      "source": [
        "X_train.shape, y_train.shape"
      ],
      "execution_count": 25,
      "outputs": [
        {
          "output_type": "execute_result",
          "data": {
            "text/plain": [
              "((4644, 16), (4644,))"
            ]
          },
          "metadata": {},
          "execution_count": 25
        }
      ]
    },
    {
      "cell_type": "markdown",
      "metadata": {
        "id": "uAjdbpcnygcQ"
      },
      "source": [
        "## Árvore de decisão\n",
        "Árvores de Decisão, ou *Decision Trees*, são algoritmos de machine learning largamente utilizados, com uma estrutura de simples compreensão e que costumam apresentar bons resultados em suas previsões. Eles também são a base do funcionamento de outros poderosos algoritmos, como o Random Forest, por exemplo.\n",
        "\n",
        "**Estrutura de uma árvore de decisão**: \n",
        "Como o próprio nome sugere, neste algoritmo vários pontos de decisão serão criados. Estes pontos são os “nós” da árvore e em cada um deles o resultado da decisão será seguir por um caminho, ou por outro. Os caminhos existentes são os “ramos”. Esta é a estrutura básica de uma árvore de decisão. Os nós são responsáveis pelas conferências que irão indicar um ramo ou outro para sequência do fluxo.\n",
        "\n",
        "Fonte: https://didatica.tech/como-funciona-o-algoritmo-arvore-de-decisao/\n"
      ]
    },
    {
      "cell_type": "code",
      "metadata": {
        "colab": {
          "base_uri": "https://localhost:8080/"
        },
        "id": "KFYCPs6vzeQi",
        "outputId": "150bf8b8-9bad-4337-e37b-bbeceab0712b"
      },
      "source": [
        "arvore = DecisionTreeClassifier(criterion='entropy', min_samples_leaf=1,\n",
        "                                min_samples_split=2, splitter='best', random_state=42)\n",
        "arvore.fit(X_train, y_train)\n",
        "prev = arvore.predict(X_test)\n",
        "print('Acurácia:', (round(accuracy_score(y_test, prev),4)))"
      ],
      "execution_count": 26,
      "outputs": [
        {
          "output_type": "stream",
          "name": "stdout",
          "text": [
            "Acurácia: 0.8614\n"
          ]
        }
      ]
    },
    {
      "cell_type": "code",
      "metadata": {
        "colab": {
          "base_uri": "https://localhost:8080/"
        },
        "id": "Y83zxB1J4ENU",
        "outputId": "d4ed87e7-2082-473c-d933-3968fd26cc93"
      },
      "source": [
        "confusion_matrix(y_test, prev)"
      ],
      "execution_count": 27,
      "outputs": [
        {
          "output_type": "execute_result",
          "data": {
            "text/plain": [
              "array([[722,  79],\n",
              "       [ 82, 279]])"
            ]
          },
          "metadata": {},
          "execution_count": 27
        }
      ]
    },
    {
      "cell_type": "code",
      "metadata": {
        "colab": {
          "base_uri": "https://localhost:8080/",
          "height": 544
        },
        "id": "XLuzKoh74Va4",
        "outputId": "eeb2dfc2-bba4-4a34-d321-b474d3dbf12e"
      },
      "source": [
        "cm = ConfusionMatrix(arvore)\n",
        "cm.fit(X_train, y_train)\n",
        "cm.score(X_test, y_test)\n",
        "print(classification_report(y_test, prev))"
      ],
      "execution_count": 28,
      "outputs": [
        {
          "output_type": "stream",
          "name": "stdout",
          "text": [
            "              precision    recall  f1-score   support\n",
            "\n",
            "           0       0.90      0.90      0.90       801\n",
            "           1       0.78      0.77      0.78       361\n",
            "\n",
            "    accuracy                           0.86      1162\n",
            "   macro avg       0.84      0.84      0.84      1162\n",
            "weighted avg       0.86      0.86      0.86      1162\n",
            "\n"
          ]
        },
        {
          "output_type": "display_data",
          "data": {
            "image/png": "[encoded data removed]",
            "text/plain": [
              "<Figure size 720x432 with 1 Axes>"
            ]
          },
          "metadata": {}
        }
      ]
    },
    {
      "cell_type": "markdown",
      "metadata": {
        "id": "PANReGp77O0t"
      },
      "source": [
        "## Random Forest\n",
        "\n",
        "*Random Forest* (Floresta Aleatória) é um metaestimador que ajusta vários classificadores de árvore de decisão em várias subamostras do conjunto de dados e usa a média para melhorar a precisão preditiva e o sobreajuste de controle.\n",
        "\n",
        "Fonte: https://scikit-learn.org/stable/modules/generated/sklearn.ensemble.RandomForestClassifier.html"
      ]
    },
    {
      "cell_type": "code",
      "metadata": {
        "colab": {
          "base_uri": "https://localhost:8080/"
        },
        "id": "e1rnHCzw7yQ5",
        "outputId": "919156ee-3bf3-475f-f660-37b24ce72540"
      },
      "source": [
        "rf = RandomForestClassifier(n_estimators=20, criterion='gini', random_state=42)\n",
        "rf.fit(X_train, y_train)\n",
        "prev = rf.predict(X_test)\n",
        "print('Acurácia:', (round(accuracy_score(y_test, prev),4)))"
      ],
      "execution_count": 29,
      "outputs": [
        {
          "output_type": "stream",
          "name": "stdout",
          "text": [
            "Acurácia: 0.9062\n"
          ]
        }
      ]
    },
    {
      "cell_type": "code",
      "metadata": {
        "colab": {
          "base_uri": "https://localhost:8080/"
        },
        "id": "Wy_TtzXzm8TT",
        "outputId": "2892fb19-0020-498e-82b7-c389faea5c5b"
      },
      "source": [
        "confusion_matrix(y_test, prev)"
      ],
      "execution_count": 30,
      "outputs": [
        {
          "output_type": "execute_result",
          "data": {
            "text/plain": [
              "array([[766,  35],\n",
              "       [ 74, 287]])"
            ]
          },
          "metadata": {},
          "execution_count": 30
        }
      ]
    },
    {
      "cell_type": "code",
      "metadata": {
        "colab": {
          "base_uri": "https://localhost:8080/",
          "height": 544
        },
        "id": "5XiriBSO9pJQ",
        "outputId": "7e19cc91-92ad-4933-a51d-c344546f9c7a"
      },
      "source": [
        "cm = ConfusionMatrix(rf)\n",
        "cm.fit(X_train, y_train)\n",
        "cm.score(X_test, y_test)\n",
        "print(classification_report(y_test, prev))"
      ],
      "execution_count": 31,
      "outputs": [
        {
          "output_type": "stream",
          "name": "stdout",
          "text": [
            "              precision    recall  f1-score   support\n",
            "\n",
            "           0       0.91      0.96      0.93       801\n",
            "           1       0.89      0.80      0.84       361\n",
            "\n",
            "    accuracy                           0.91      1162\n",
            "   macro avg       0.90      0.88      0.89      1162\n",
            "weighted avg       0.91      0.91      0.90      1162\n",
            "\n"
          ]
        },
        {
          "output_type": "display_data",
          "data": {
            "image/png": "[encoded data removed]",
            "text/plain": [
              "<Figure size 720x432 with 1 Axes>"
            ]
          },
          "metadata": {}
        }
      ]
    },
    {
      "cell_type": "markdown",
      "metadata": {
        "id": "nlX2xOjXeFHZ"
      },
      "source": [
        "## KNN\n",
        "\n",
        "**Resumo do processo realizado pelo algoritmo KNN**\n",
        "\n",
        "1 ) Recebe um dado não classificado e mede a distância do novo dado em relação a cada um dos outros dados que já estão classificados;\n",
        "\n",
        "2 ) Seleciona as K menores distâncias;\n",
        "\n",
        "3 ) Verifica a(s) classe(s) dos dados que tiveram as K menores distâncias e contabiliza a quantidade de vezes que cada classe apareceu;\n",
        "\n",
        "4 )  Classifica esse novo dado como pertencente à classe que mais apareceu.\n",
        "\n",
        "Fonte: https://didatica.tech/o-que-e-e-como-funciona-o-algoritmo-knn/"
      ]
    },
    {
      "cell_type": "code",
      "metadata": {
        "colab": {
          "base_uri": "https://localhost:8080/"
        },
        "id": "psHky-LPgovY",
        "outputId": "537d3210-7409-49a1-a96f-1789ffc6e5d3"
      },
      "source": [
        "knn = KNeighborsClassifier(n_neighbors=40, metric='minkowski', p=2)\n",
        "knn.fit(X_train, y_train)\n",
        "prev = knn.predict(X_test)\n",
        "print('Acurácia:', (round(accuracy_score(y_test, prev),4)))"
      ],
      "execution_count": 32,
      "outputs": [
        {
          "output_type": "stream",
          "name": "stdout",
          "text": [
            "Acurácia: 0.8468\n"
          ]
        }
      ]
    },
    {
      "cell_type": "code",
      "metadata": {
        "colab": {
          "base_uri": "https://localhost:8080/"
        },
        "id": "W9uu8Q37nf6W",
        "outputId": "4bb811de-23b6-4a50-dc5a-39aecdb94878"
      },
      "source": [
        "confusion_matrix(y_test, prev)"
      ],
      "execution_count": 33,
      "outputs": [
        {
          "output_type": "execute_result",
          "data": {
            "text/plain": [
              "array([[763,  38],\n",
              "       [140, 221]])"
            ]
          },
          "metadata": {},
          "execution_count": 33
        }
      ]
    },
    {
      "cell_type": "code",
      "metadata": {
        "colab": {
          "base_uri": "https://localhost:8080/",
          "height": 544
        },
        "id": "sMFHkjwmm5Kj",
        "outputId": "14cf0259-1134-44a2-d08f-f0ae19826e3a"
      },
      "source": [
        "cm = ConfusionMatrix(knn)\n",
        "cm.fit(X_train, y_train)\n",
        "cm.score(X_test, y_test)\n",
        "print(classification_report(y_test, prev))"
      ],
      "execution_count": 34,
      "outputs": [
        {
          "output_type": "stream",
          "name": "stdout",
          "text": [
            "              precision    recall  f1-score   support\n",
            "\n",
            "           0       0.84      0.95      0.90       801\n",
            "           1       0.85      0.61      0.71       361\n",
            "\n",
            "    accuracy                           0.85      1162\n",
            "   macro avg       0.85      0.78      0.80      1162\n",
            "weighted avg       0.85      0.85      0.84      1162\n",
            "\n"
          ]
        },
        {
          "output_type": "display_data",
          "data": {
            "image/png": "[encoded data removed]",
            "text/plain": [
              "<Figure size 720x432 with 1 Axes>"
            ]
          },
          "metadata": {}
        }
      ]
    },
    {
      "cell_type": "markdown",
      "metadata": {
        "id": "UV-KLCThvdF5"
      },
      "source": [
        "# Tuning dos parâmetros\n",
        "\n",
        "O GridSearchCV é uma ferramenta usada para automatizar o processo de ajuste dos parâmetros de um algoritmo. Ele fará, de maneira sistemática, diversas combinações dos parâmetros, e depois de avaliá-los, os armazenará num único objeto.\n",
        "\n",
        "Fonte: https://andersonuyekita.github.io/notebooks/blog/2019/03/21/como-usar-o-gridsearchcv/"
      ]
    },
    {
      "cell_type": "code",
      "metadata": {
        "id": "oA47q97ovmTt",
        "colab": {
          "base_uri": "https://localhost:8080/"
        },
        "outputId": "b97a196b-9448-410a-cd13-013b63736210"
      },
      "source": [
        "n_estimators = [50, 100, 150, 200]\n",
        "criterion = ['gini', 'entropy']\n",
        "min_samples_split = [2, 5, 10]\n",
        "min_samples_leaf = [1, 4, 6, 8]\n",
        "max_features = ['auto', 'sqrt', 'log2']\n",
        "\n",
        "rf_parametros = {'n_estimators': n_estimators,\n",
        "                 'criterion': criterion,\n",
        "                 'min_samples_split': min_samples_split,\n",
        "                 'min_samples_leaf': min_samples_leaf,\n",
        "                 'max_features': max_features}\n",
        "\n",
        "RFtuning = GridSearchCV(estimator=RandomForestClassifier(random_state=42),\n",
        "                        param_grid=rf_parametros,                        \n",
        "                        cv=5)  \n",
        "RFtuning.fit(X_dados, y_dados) \n",
        "\n",
        "print('Melhores parâmetros:', RFtuning.best_params_)\n",
        "print('Melhor resultado:', RFtuning.best_score_)"
      ],
      "execution_count": 35,
      "outputs": [
        {
          "output_type": "stream",
          "name": "stdout",
          "text": [
            "Melhores parâmetros: {'criterion': 'gini', 'max_features': 'auto', 'min_samples_leaf': 8, 'min_samples_split': 2, 'n_estimators': 100}\n",
            "Melhor resultado: 0.8927251271605433\n"
          ]
        }
      ]
    },
    {
      "cell_type": "markdown",
      "metadata": {
        "id": "vO9arA1k3kdd"
      },
      "source": [
        "# Validação cruzada\n",
        "\n",
        "O método de validação cruzada denominado k-fold consiste em dividir o conjunto total de dados em k subconjuntos mutuamente exclusivos do mesmo tamanho e, a partir daí, um subconjunto é utilizado para teste e os k-1 restantes são utilizados para estimação dos parâmetros, fazendo-se o cálculo da acurácia do modelo. Este processo é realizado k vezes alternando de forma circular o subconjunto de teste.\n",
        "\n",
        "Fonte: https://pt.wikipedia.org/wiki/Validação_cruzada"
      ]
    },
    {
      "cell_type": "markdown",
      "metadata": {
        "id": "Y1Hql1rBapAn"
      },
      "source": [
        "## Preparação dos dados"
      ]
    },
    {
      "cell_type": "code",
      "metadata": {
        "id": "ui8Lgp3yYDQt",
        "colab": {
          "base_uri": "https://localhost:8080/"
        },
        "outputId": "16d95fac-65bf-473c-c813-2979f51052ff"
      },
      "source": [
        "with open('bank.pkl', 'rb') as f:\n",
        "  X_train, y_train, X_test, y_test = pickle.load(f) \n",
        "  X_dados = np.concatenate((X_train, X_test), axis = 0)\n",
        "  y_dados = np.concatenate((y_train, y_test), axis = 0)\n",
        "X_dados.shape, y_dados.shape"
      ],
      "execution_count": 36,
      "outputs": [
        {
          "output_type": "execute_result",
          "data": {
            "text/plain": [
              "((5806, 16), (5806,))"
            ]
          },
          "metadata": {},
          "execution_count": 36
        }
      ]
    },
    {
      "cell_type": "markdown",
      "metadata": {
        "id": "r2hhjnchRmtP"
      },
      "source": [
        "## Processamento"
      ]
    },
    {
      "cell_type": "code",
      "metadata": {
        "id": "D7PRQegbXdFT"
      },
      "source": [
        "from sklearn.model_selection import cross_val_score, KFold"
      ],
      "execution_count": 37,
      "outputs": []
    },
    {
      "cell_type": "code",
      "metadata": {
        "id": "AM9I1_j-RrC8",
        "colab": {
          "base_uri": "https://localhost:8080/"
        },
        "outputId": "9492e66a-dde5-4b84-e434-839e7a7031b5"
      },
      "source": [
        "kfold = KFold(n_splits=10, shuffle=True, random_state=42)  \n",
        "rf = RandomForestClassifier(criterion='gini', max_features='auto',min_samples_leaf=8,\n",
        "                            min_samples_split=2, n_estimators=100)\n",
        "scores = cross_val_score(rf, X_dados, y_dados, cv = kfold)\n",
        "for score in scores:\n",
        "  print('Scores:', round(score,4))"
      ],
      "execution_count": 38,
      "outputs": [
        {
          "output_type": "stream",
          "name": "stdout",
          "text": [
            "Scores: 0.9088\n",
            "Scores: 0.9105\n",
            "Scores: 0.9243\n",
            "Scores: 0.9002\n",
            "Scores: 0.9088\n",
            "Scores: 0.9002\n",
            "Scores: 0.9121\n",
            "Scores: 0.8931\n",
            "Scores: 0.9017\n",
            "Scores: 0.9224\n"
          ]
        }
      ]
    },
    {
      "cell_type": "code",
      "metadata": {
        "colab": {
          "base_uri": "https://localhost:8080/",
          "height": 300
        },
        "id": "zvDitnzWdsQ0",
        "outputId": "1bd5540d-7579-46dc-9c92-a6e828a4d45a"
      },
      "source": [
        "result_cv = round(pd.DataFrame(scores),4)\n",
        "result_cv.describe()"
      ],
      "execution_count": 39,
      "outputs": [
        {
          "output_type": "execute_result",
          "data": {
            "text/html": [
              "<div>\n",
              "<style scoped>\n",
              "    .dataframe tbody tr th:only-of-type {\n",
              "        vertical-align: middle;\n",
              "    }\n",
              "\n",
              "    .dataframe tbody tr th {\n",
              "        vertical-align: top;\n",
              "    }\n",
              "\n",
              "    .dataframe thead th {\n",
              "        text-align: right;\n",
              "    }\n",
              "</style>\n",
              "<table border=\"1\" class=\"dataframe\">\n",
              "  <thead>\n",
              "    <tr style=\"text-align: right;\">\n",
              "      <th></th>\n",
              "      <th>0</th>\n",
              "    </tr>\n",
              "  </thead>\n",
              "  <tbody>\n",
              "    <tr>\n",
              "      <th>count</th>\n",
              "      <td>10.000000</td>\n",
              "    </tr>\n",
              "    <tr>\n",
              "      <th>mean</th>\n",
              "      <td>0.908210</td>\n",
              "    </tr>\n",
              "    <tr>\n",
              "      <th>std</th>\n",
              "      <td>0.009890</td>\n",
              "    </tr>\n",
              "    <tr>\n",
              "      <th>min</th>\n",
              "      <td>0.893100</td>\n",
              "    </tr>\n",
              "    <tr>\n",
              "      <th>25%</th>\n",
              "      <td>0.900575</td>\n",
              "    </tr>\n",
              "    <tr>\n",
              "      <th>50%</th>\n",
              "      <td>0.908800</td>\n",
              "    </tr>\n",
              "    <tr>\n",
              "      <th>75%</th>\n",
              "      <td>0.911700</td>\n",
              "    </tr>\n",
              "    <tr>\n",
              "      <th>max</th>\n",
              "      <td>0.924300</td>\n",
              "    </tr>\n",
              "  </tbody>\n",
              "</table>\n",
              "</div>"
            ],
            "text/plain": [
              "               0\n",
              "count  10.000000\n",
              "mean    0.908210\n",
              "std     0.009890\n",
              "min     0.893100\n",
              "25%     0.900575\n",
              "50%     0.908800\n",
              "75%     0.911700\n",
              "max     0.924300"
            ]
          },
          "metadata": {},
          "execution_count": 39
        }
      ]
    },
    {
      "cell_type": "markdown",
      "metadata": {
        "id": "sCT2S9aUlBCf"
      },
      "source": [
        "# Salvar um classificador já treinado"
      ]
    },
    {
      "cell_type": "code",
      "metadata": {
        "colab": {
          "base_uri": "https://localhost:8080/"
        },
        "id": "AiTBlzp0ncFJ",
        "outputId": "caa5b34c-a75f-403d-fcdb-960f31d53083"
      },
      "source": [
        "from sklearn.ensemble import RandomForestClassifier\n",
        "classificador_rf=RandomForestClassifier(criterion='gini', max_features='auto',min_samples_leaf=8,\n",
        "                                         min_samples_split=2, n_estimators=100, random_state=42)\n",
        "classificador_rf.fit(X_dados, y_dados)"
      ],
      "execution_count": 40,
      "outputs": [
        {
          "output_type": "execute_result",
          "data": {
            "text/plain": [
              "RandomForestClassifier(min_samples_leaf=8, random_state=42)"
            ]
          },
          "metadata": {},
          "execution_count": 40
        }
      ]
    },
    {
      "cell_type": "code",
      "metadata": {
        "id": "ocdiZyXOosW3"
      },
      "source": [
        "pickle.dump(classificador_rf, open('classificador_rf.sav', 'wb'))"
      ],
      "execution_count": 41,
      "outputs": []
    },
    {
      "cell_type": "markdown",
      "metadata": {
        "id": "azNdbD6Xrl4c"
      },
      "source": [
        "# Carregar um classificador já treinado"
      ]
    },
    {
      "cell_type": "code",
      "metadata": {
        "id": "ChgMIrRgrtSb"
      },
      "source": [
        "random_forest = pickle.load(open('classificador_rf.sav', 'rb'))"
      ],
      "execution_count": 42,
      "outputs": []
    },
    {
      "cell_type": "code",
      "metadata": {
        "colab": {
          "base_uri": "https://localhost:8080/"
        },
        "id": "u8_Sz8N1JJBz",
        "outputId": "321f0d2d-88dc-43ca-ae89-83595d9e5865"
      },
      "source": [
        "novo_registro = X_dados[5805]\n",
        "novo_registro"
      ],
      "execution_count": 47,
      "outputs": [
        {
          "output_type": "execute_result",
          "data": {
            "text/plain": [
              "array([0.14666667, 0.27272727, 1.        , 0.66666667, 0.        ,\n",
              "       0.03942402, 0.        , 0.        , 0.        , 0.13333333,\n",
              "       0.27272727, 0.03508772, 0.02040816, 0.07454128, 0.03448276,\n",
              "       0.66666667])"
            ]
          },
          "metadata": {},
          "execution_count": 47
        }
      ]
    },
    {
      "cell_type": "code",
      "metadata": {
        "colab": {
          "base_uri": "https://localhost:8080/"
        },
        "id": "6EaPPVtPK1bW",
        "outputId": "871c5369-cd49-4da6-f51a-93b7875123f9"
      },
      "source": [
        "y_dados[5805]"
      ],
      "execution_count": 48,
      "outputs": [
        {
          "output_type": "execute_result",
          "data": {
            "text/plain": [
              "1"
            ]
          },
          "metadata": {},
          "execution_count": 48
        }
      ]
    },
    {
      "cell_type": "code",
      "metadata": {
        "colab": {
          "base_uri": "https://localhost:8080/"
        },
        "id": "-zspoI7JtH9j",
        "outputId": "f3838145-4bd1-492b-8ef3-b328587d7aa6"
      },
      "source": [
        "novo_registro = novo_registro.reshape(1, -1)\n",
        "novo_registro.shape"
      ],
      "execution_count": 49,
      "outputs": [
        {
          "output_type": "execute_result",
          "data": {
            "text/plain": [
              "(1, 16)"
            ]
          },
          "metadata": {},
          "execution_count": 49
        }
      ]
    },
    {
      "cell_type": "code",
      "metadata": {
        "colab": {
          "base_uri": "https://localhost:8080/"
        },
        "id": "viQIOiM6tnkg",
        "outputId": "eb87c85d-3d93-4f67-c138-558f123022be"
      },
      "source": [
        "classificador_rf.predict(novo_registro)"
      ],
      "execution_count": 50,
      "outputs": [
        {
          "output_type": "execute_result",
          "data": {
            "text/plain": [
              "array([1], dtype=int8)"
            ]
          },
          "metadata": {},
          "execution_count": 50
        }
      ]
    }
  ]
}